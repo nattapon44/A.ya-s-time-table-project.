{
  "nbformat": 4,
  "nbformat_minor": 0,
  "metadata": {
    "colab": {
      "provenance": [],
      "authorship_tag": "ABX9TyMa08X6CSzABjqjP9L4G3Rq",
      "include_colab_link": true
    },
    "kernelspec": {
      "name": "python3",
      "display_name": "Python 3"
    },
    "language_info": {
      "name": "python"
    }
  },
  "cells": [
    {
      "cell_type": "markdown",
      "metadata": {
        "id": "view-in-github",
        "colab_type": "text"
      },
      "source": [
        "<a href=\"https://colab.research.google.com/github/nattapon44/time-table-project/blob/main/Constraints.ipynb\" target=\"_parent\"><img src=\"https://colab.research.google.com/assets/colab-badge.svg\" alt=\"Open In Colab\"/></a>"
      ]
    },
    {
      "cell_type": "markdown",
      "source": [
        "Constraints\n",
        "1. อาจารย์ผู้สอนหนึ่งคนไม่สามารถสอนมากกว่าหนึ่งกลุ่มในเวลาเดียวกัน\n",
        "2. นักศึกษาหนึ่งกลุ่มไม่สามารถเรียนมากกว่าหนึ่งรายวิชาในวันเดียวกัน\n",
        "3. ห้องเรียน 1 ห้องเรียนไม่สามารถเรียนมากกว่า 1 รายวิชาในวันเดียวกัน\n",
        "4. กำหนดรายวิชาในหลักสูตรให้เหมาะสมกับประเภทของห้องเรียน\n",
        "5. จำนวนนักศึกษาในแต่ละห้องต้องน้อยกว่าความจุห้องเรียน\n",
        "6. หลีกเลี่ยงการสอนในช่วงค่ำ\n",
        "7. การเรียนบางรายวิชาในหลักสูตรควรจัดต่อเนื่องกัน\n",
        "8. เวลา 12:00-13:00 น. เป็นชั่วโมงพักและไม่มีการเรียนการสอน\n",
        "9. วันหยุดระหว่างการสอน 2 ครั้งในหลักสูตรเดียวกัน\n"
      ],
      "metadata": {
        "id": "-0QSJV_FXJeV"
      }
    }
  ]
}