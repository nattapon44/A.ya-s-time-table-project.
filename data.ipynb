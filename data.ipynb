{
  "cells": [
    {
      "cell_type": "markdown",
      "metadata": {
        "id": "view-in-github",
        "colab_type": "text"
      },
      "source": [
        "<a href=\"https://colab.research.google.com/github/nattapon44/time-table-project/blob/main/data.ipynb\" target=\"_parent\"><img src=\"https://colab.research.google.com/assets/colab-badge.svg\" alt=\"Open In Colab\"/></a>"
      ]
    },
    {
      "cell_type": "markdown",
      "source": [
        "# New Section"
      ],
      "metadata": {
        "id": "kUqIpSW4EAC8"
      }
    },
    {
      "cell_type": "code",
      "source": [
        "import sys\n",
        "import numpy as np\n",
        "\n",
        "# A set of time period T (08:00am - 06:00pm)\n",
        "t = [\"08:00am\", \"08:30am\", \"09:00am\", \"09:30am\", \"10:00am\", \"10:30am\", \"11:00am\", \"11:30am\", \"12:00pm\", \"12:30pm\", \"01:00pm\",\n",
        "    \"02:00pm\", \"02:30pm\", \"03:00pm\", \"03:30pm\", \"04:00pm\", \"04:30pm\", \"05:00pm\", \"05:30pm\", \"06:00am\"]\n",
        "# A set of classroom\n",
        "rc_r = [\"6409(40)\", \"6501(75)\", \"6502(80)\", \"lab(36)\"]\n",
        "# A set of courses C\n",
        "cc_c = [\"Experimental Design\", \"Research\", \"Linear Programming0\", \"Basic of Data Science\", \"Data Processing\", \"Insurance\"]\n",
        "# A set of professor P\n",
        "a_pt = [\"a.pitchaya\", \"a.wannaporn\", \"a.sukanya\", \"a.jitjira\", \"a.parakorn\", \"a.tammarat\", \"a.thippathai\", \"a.kunlaya\" ]\n",
        "# A set of students S\n",
        "a_st = [\"s3_01\", \"s3_02\", \"s3_03\", \"s3_04\", \"s3_05\", \"s3_06\", \"s3_07\", \"s3_08\", \"s3_09\", \"s3_10\"]\n",
        "# A set of assigned Professor of course A_c\n",
        "a_pc = []"
      ],
      "metadata": {
        "id": "jMvc3bBPECFn"
      },
      "execution_count": 3,
      "outputs": []
    }
  ],
  "metadata": {
    "colab": {
      "name": "Welcome To Colaboratory",
      "toc_visible": true,
      "provenance": [],
      "include_colab_link": true
    },
    "kernelspec": {
      "display_name": "Python 3",
      "name": "python3"
    }
  },
  "nbformat": 4,
  "nbformat_minor": 0
}