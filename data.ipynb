{
  "cells": [
    {
      "cell_type": "markdown",
      "metadata": {
        "id": "view-in-github",
        "colab_type": "text"
      },
      "source": [
        "<a href=\"https://colab.research.google.com/github/nattapon44/time-table-project/blob/main/data.ipynb\" target=\"_parent\"><img src=\"https://colab.research.google.com/assets/colab-badge.svg\" alt=\"Open In Colab\"/></a>"
      ]
    },
    {
      "cell_type": "markdown",
      "source": [
        "# Data Project"
      ],
      "metadata": {
        "id": "kUqIpSW4EAC8"
      }
    },
    {
      "cell_type": "markdown",
      "source": [
        "\n",
        " A set of time period T\n",
        "\n",
        "```\n",
        "- t in T = {8 am, 8:30 am, 9 am, 9:30 am, ..., 6 pm} 5 days / week\n",
        " Constraints\n",
        " T = t[d,h], d in Days {M,T,W,Th,F}, h in Hours {8 am, 8:30 am, 9 am, 9:30 am, ..., 11:30 am, 1 pm, 1:30 pm, ..., 6 pm}\n",
        " T = [(1,1),(1,2),...,(1,18),(2,1),...,(5,18)]\n",
        " T = [(1,1):('Monday','8am'),...]\n",
        " - cost of time periods\n",
        " w_t = {(1,1): 0.5, ..., ..., (5,15): 0.7, ..., (5,18): 1}\n",
        "```\n",
        "\n",
        "Definition\n",
        "```\n",
        " d = {1:\"M\",2:\"T\",3:\"W\",4:\"Th\",5:\"F\"}\n",
        " h = {1:\"8am\", 2:\"8:30am\", 3:\"9am\", 4:\"9:30am\", 5:\"10am\", 6:\"10:30am\", 7:\"11am\", 8:\"11:30am\",\n",
        "    9:\"1pm\", 10:\"1:30pm\", 11:\"2pm\", 12:\"2:30pm\", 13:\"3pm\", 14:\"3:30pm\", 15:\"4pm\", 16:\"4:30pm\", 17:\"5pm\", 18:\"5:30pm\", 19:\"6pm\"}\n",
        "```"
      ],
      "metadata": {
        "id": "V_P210KHgae-"
      }
    },
    {
      "cell_type": "code",
      "source": [
        "T = {(1,1):('Monday','8am'), (1,2):('Monday','8:30am'), (1,3):('Monday','9am'), (1,4):('Monday','9:30am'), (1,5):('Monday','10am')\n",
        "       , (1,6):('Monday','10:30am'), (1,7):('Monday','11am'), (1,8):('Monday','11:30am'), (1,9):('Monday','1pm')\n",
        "       , (1,10):('Monday','1:30pm'), (1,11):('Monday','2pm'), (1,12):('Monday','2:30pm'), (1,13):('Monday','3pm')\n",
        "       , (1,14):('Monday','3:30pm'), (1,15):('Monday','4pm'), (1,16):('Monday','4:30pm'), (1,17):('Monday','5am'), (1,18):('Monday','5:30pm'),(1,19):('Monday','6pm')\n",
        "       , (2,1):('Tuesday','8am'), (2,2):('Tuesday','8:30am'), (2,3):('Tuesday','9am'), (2,4):('Tuesday','9:30am'), (2,5):('Tuesday','10am')\n",
        "       , (2,6):('Tuesday','10:30am'), (2,7):('Tuesday','11am'), (2,8):('Tuesday','11:30am'), (2,9):('Tuesday','1pm')\n",
        "       , (2,10):('Tuesday','1:30pm'), (2,11):('Tuesday','2pm'), (2,12):('Tuesday','2:30pm'), (2,13):('Tuesday','3pm')\n",
        "       , (2,14):('Tuesday','3:30pm'), (2,15):('Tuesday','4pm'), (2,16):('Tuesday','4:30pm'), (2,17):('Tuesday','5am'), (2,18):('Tuesday','5:30pm'),(2,19):('Tuesday','6pm')\n",
        "       , (3,1):('Wednesday','8am'), (3,2):('Wednesday','8:30am'), (3,3):('Wednesday','9am'), (3,4):('Wednesday','9:30am'), (3,5):('Wednesday','10am')\n",
        "       , (3,6):('Wednesday','10:30am'), (3,7):('Wednesday','11am'), (3,8):('Wednesday','11:30am'), (3,9):('Wednesday','1pm')\n",
        "       , (3,10):('Wednesday','1:30pm'), (3,11):('Wednesday','2pm'), (3,12):('Wednesday','2:30pm'), (3,13):('Wednesday','3pm')\n",
        "       , (3,14):('Wednesday','3:30pm'), (3,15):('Wednesday','4pm'), (3,16):('Wednesday','4:30pm'), (3,17):('Wednesday','5am'), (3,18):('Wednesday','5:30pm'),(3,19):('Wednesday','6pm')\n",
        "       , (4,1):('Thursday','8am'), (4,2):('Thursday','8:30am'), (4,3):('Thursday','9am'), (4,4):('Thursday','9:30am'), (4,5):('Thursday','10am')\n",
        "       , (4,6):('Thursday','10:30am'), (4,7):('Thursday','11am'), (4,8):('Thursday','11:30am'), (4,9):('Thursday','1pm')\n",
        "       , (4,10):('Thursday','1:30pm'), (4,11):('Thursday','2pm'), (4,12):('Thursday','2:30pm'), (4,13):('Thursday','3pm')\n",
        "       , (4,14):('Thursday','3:30pm'), (4,15):('Thursday','4pm'), (4,16):('Thursday','4:30pm'), (4,17):('Thursday','5am'), (4,18):('Thursday','5:30pm'),(4,19):('Thursday','6pm')\n",
        "       , (5,1):('Friday','8am'), (5,2):('Friday','8:30am'), (5,3):('Friday','9am'), (5,4):('Friday','9:30am'), (5,5):('Friday','10am')\n",
        "       , (5,6):('Friday','10:30am'), (5,7):('Friday','11am'), (5,8):('Friday','11:30am'), (5,9):('Friday','1pm')\n",
        "       , (5,10):('Friday','1:30pm'), (5,11):('Friday','2pm'), (5,12):('Friday','2:30pm'), (5,13):('Friday','3pm')\n",
        "       , (5,14):('Friday','3:30pm'), (5,15):('Friday','4pm'), (5,16):('Friday','4:30pm'), (5,17):('Friday','5am'), (5,18):('Friday','5:30pm'),(5,19):('Friday','6pm') }"
      ],
      "metadata": {
        "id": "jMvc3bBPECFn"
      },
      "execution_count": null,
      "outputs": []
    },
    {
      "cell_type": "markdown",
      "source": [
        "A set of classrooms R\n",
        "\n",
        "```\n",
        "R = {1: ('SC6409',40), ...}\n",
        "capacity = 40 --> R[1][1]\n",
        "list(R.keys())[0]\n",
        "R[list(R.keys())[0]][1]\n",
        "- Room capacity rc_r ห้องเรียน r ที่มีความจุได้ rc_r คน\n",
        "- Cost of using that classrooms k_r\n",
        "```\n",
        "Definition\n",
        "\n",
        "\n",
        "```\n",
        "r = {1:'SC6409', 2:'SC6501', 3:'SC6502', 4:'LAB'}\n",
        "c = {1:'40', 2:'75', 3:'80' , 4:'40'}\n",
        "```\n",
        "\n",
        "\n",
        "\n"
      ],
      "metadata": {
        "id": "qZLTUckugKPb"
      }
    },
    {
      "cell_type": "code",
      "source": [
        "R = {1: {\"RoomName\": 'SC6409',\n",
        "        \"RoomCapacity\": 40},\n",
        "     2: {\"RoomName\": 'SC6501',\n",
        "        \"RoomCapacity\": 75},\n",
        "     3: {\"RoomName\": 'SC6502',\n",
        "        \"RoomCapacity\": 80},\n",
        "     4: {\"RoomName\": 'LAB',\n",
        "        \"RoomCapacity\": 40}\n",
        "    }"
      ],
      "metadata": {
        "id": "9aK0JTPQiNEb"
      },
      "execution_count": 11,
      "outputs": []
    },
    {
      "cell_type": "markdown",
      "source": [
        "A set of courses C\n",
        "\n",
        "```\n",
        "C = {1: ('Stat Analz 1', {1:'Wichuda', 2:'Pitchaya'}), 2: ('Nonparametric',{2: 'Pitchaya'}), ...}\n",
        "- cc_c: Course capacity\n",
        "- d_c: Duration in a week of a course เวลาเรียนตามหน่วยกิต\n",
        "- pr_c in {1,2,3}: Whole one period or separate periods in a week สอนกี่ครั้งในหนึ่งสัปดาห์ เข่น pr_c=1 เป็นการเรียนครั้งเดียวต่อสัปดาห์\n",
        "```\n",
        "```\n",
        "A set of courses C\n",
        "C = {1: {\"courseName\": 'Stat Analz 1',\n",
        "         \"teachers\": {1:'Wichuda', 2:'Pitchaya'},\n",
        "         \"courseCapacity\": 40,\n",
        "         \"hoursPerWeek\": [2,2]},\n",
        "     2: {\"courseName\": 'Nonparametric',\n",
        "         \"teachers\": {2:'Pitchaya'},\n",
        "         \"courseCapacity\": 30,\n",
        "         \"hoursPerWeek\": [2,2]},\n",
        "     ...}\n",
        "```\n",
        "\n",
        "Definition\n",
        "```\n",
        "c = {1:\"Experimental Design\", 2:\"Research Methodology\", 3:\"Linear Programming\", 4:\"Basic of Data Science\", 5:\"Data Processing\", 6:\"Insurance\"}\n",
        "p = {1:\"Wannaporn\", 2:\"Sukanya\", 3:\"Tammarat\", 4:\"Pitchaya\", 5:\"Jitjira\", 6:\"Palakorn\", 7:\"Thippatai\"}\n",
        "```\n",
        "\n",
        "\n",
        "\n",
        "\n",
        "\n",
        "\n"
      ],
      "metadata": {
        "id": "i7jaiMHziFCT"
      }
    },
    {
      "cell_type": "code",
      "source": [
        "C = {1: {\"courseName\": 'Experimental Design',\n",
        "         \"teachers\": {1:'Wannaporn'},\n",
        "         \"courseCapacity\": 40,\n",
        "         \"hoursPerWeek\": [2,2]},\n",
        "     2: {\"courseName\": 'Research Methodology',\n",
        "         \"teachers\": {2:'Sukanya'},\n",
        "         \"courseCapacity\": 40,\n",
        "         \"hoursPerWeek\": [2,2]},\n",
        "     3: {\"courseName\": 'Linear Programming',\n",
        "         \"teachers\": {2:'Tammarat'},\n",
        "         \"courseCapacity\": 40,\n",
        "         \"hoursPerWeek\": [2,2]},\n",
        "     4: {\"courseName\": 'Basic of Data Science',\n",
        "         \"teachers\": {2:'Pitchaya'},\n",
        "         \"courseCapacity\": 40,\n",
        "         \"hoursPerWeek\": [2,2]},\n",
        "     5: {\"courseName\": 'Data Processing',\n",
        "         \"teachers\": {2:'Jitjira', 6:'Palakorn'},\n",
        "         \"courseCapacity\": 40,\n",
        "         \"hoursPerWeek\": [2,2]},\n",
        "     6: {\"courseName\": 'Insurance',\n",
        "         \"teachers\": {2:'Thippatai'},\n",
        "         \"courseCapacity\": 40,\n",
        "         \"hoursPerWeek\": [2,2]},\n",
        "     }"
      ],
      "metadata": {
        "id": "CRBalSeGS0ew"
      },
      "execution_count": 7,
      "outputs": []
    },
    {
      "cell_type": "markdown",
      "source": [
        "A set of professor P\n",
        "\n",
        "```\n",
        "P = {1: {'Name':'Wichuda',\n",
        "\t\t 'Availability': [(1,1),(1,2),....]},\n",
        "\t 2: {'Name':'Pitchaya',\n",
        "\t\t 'Availability': [(1,1),(1,2),....]},\n",
        "\t ...}\n",
        "- a_pt: Availability of a professor at time t\n",
        "```\n"
      ],
      "metadata": {
        "id": "pBv15_PgiN-p"
      }
    },
    {
      "cell_type": "code",
      "source": [
        "P = {1: {'Name':'Wannaporn',\n",
        "\t\t 'Availability': [(1,1),(1,2)]},\n",
        "\t   2: {'Name':'Sukanya',\n",
        "\t\t 'Availability': [(1,1),(1,2)]},\n",
        "     3: {'Name':'Tammarat',\n",
        "\t\t 'Availability': [(1,1),(1,2)]},\n",
        "\t   4: {'Name':'Pitchaya',\n",
        "\t\t 'Availability': [(1,1),(1,2)]},\n",
        "     5: {'Name':'Jitjira',\n",
        "\t\t 'Availability': [(1,1),(1,2)]},\n",
        "\t   6: {'Name':'Palakorn',\n",
        "\t\t 'Availability': [(1,1),(1,2)]},\n",
        "     7: {'Name':'Thippatai',\n",
        "\t\t 'Availability': [(1,1),(1,2)]}}\n"
      ],
      "metadata": {
        "id": "fcLt8wt8iZQp"
      },
      "execution_count": null,
      "outputs": []
    },
    {
      "cell_type": "markdown",
      "source": [
        "A set of students S\n",
        "\n",
        "```\n",
        "S = {1: ('sid1', {1: 'Stat Analz 1', 2: 'Nonparametric'}), 2: ..., ....}\n",
        "- a_st: Availability of student at time t\n",
        "```\n",
        "\n",
        "```\n",
        "S = {‘id1’: {‘name’: ‘sid1’,\n",
        "       ‘courseRegister’:  {1: ‘courseName1’, 2: ‘courseName2’}},\n",
        "        ‘id2’: {‘name’: ‘stat1,\n",
        "       ‘courseRegister’:  {1: ‘courseName2’, 2: ‘courseName3’}},\n",
        "    …}\n",
        "S = {‘id1’: {‘name’: ‘sid1’,\n",
        "       ‘courseRegister’:  {1: ‘Stat Analz 1', 2: ‘Nonparametric'}},\n",
        "        ‘id2’: {‘name’: ‘stat1,\n",
        "       ‘courseRegister’:  {2: ‘'Nonparametric'}},\n",
        "    …}\n",
        "```\n",
        "\n",
        "\n",
        "\n"
      ],
      "metadata": {
        "id": "i648SF1giZsL"
      }
    },
    {
      "cell_type": "code",
      "source": [
        "S = { 'id1': {'name': 'Techin',\n",
        "      'courseRegister':  {1:'Experimental Design', 2:'Research Methodology', 3:'Linear Programming', 4:'Basic of Data Science', 5:'Data Processing', 6:'Insurance'}},\n",
        "      'id2': {'name': 'Kanokporn',\n",
        "      'courseRegister':  {1:'Experimental Design', 2:'Research Methodology', 3:'Linear Programming', 4:'Basic of Data Science', 5:'Data Processing'}},\n",
        "      'id3': {'name': 'Kanokon',\n",
        "      'courseRegister':  {1:'Experimental Design', 2:'Research Methodology', 3:'Basic of Data Science', 4:'Data Processing'}},\n",
        "      'id4': {'name': 'Janjira',\n",
        "      'courseRegister':  {1:'Experimental Design', 2:'Research Methodology', 3:'Linear Programming', 4:'Basic of Data Science', 5:'Data Processing'}},\n",
        "      'id5': {'name': 'Jiraphat',\n",
        "      'courseRegister':  {1:'Experimental Design', 2:'Research Methodology', 3:'Linear Programming', 4:'Basic of Data Science', 5:'Data Processing'}},\n",
        "      'id6': {'name': 'Jirawat',\n",
        "      'courseRegister':  {1:'Experimental Design', 2:'Research Methodology', 3:'Linear Programming', 4:'Basic of Data Science', 5:'Data Processing'}},\n",
        "      'id7': {'name': 'Nattapon',\n",
        "      'courseRegister':  {1:'Experimental Design', 2:'Research Methodology', 3:'Linear Programming', 4:'Basic of Data Science', 5:'Data Processing'}},\n",
        "      'id8': {'name': 'Pongthep',\n",
        "      'courseRegister':  {1:'Experimental Design', 2:'Research Methodology', 3:'Basic of Data Science', 4:'Data Processing', 5:'Insurance'}},\n",
        "      'id9': {'name': 'Thapanee',\n",
        "      'courseRegister':  {1:'Experimental Design', 2:'Research Methodology', 3:'Basic of Data Science', 4:'Data Processing'}},\n",
        "      'id10': {'name': 'Yanin',\n",
        "      'courseRegister':  {1:'Experimental Design', 2:'Research Methodology', 3:'Basic of Data Science', 4:'Data Processing', 5:'Insurance'}},\n",
        "    }"
      ],
      "metadata": {
        "id": "jD2xMEBkUn2l"
      },
      "execution_count": null,
      "outputs": []
    },
    {
      "cell_type": "markdown",
      "source": [
        "Data: บางวิชามีผู้สอนร่วม\n",
        "\n",
        "```\n",
        "Key is a course c and Value is a set of professor(s) p teaching course c\n",
        "PCassign = {[1]: [1,2],\n",
        "\t  \t\t[2]: 2,\n",
        "\t  \t\t[3]: 1,\n",
        "\t  \t\t[4]: 3,\n",
        "\t  \t\t[5]: [1,3]}\n",
        "```\n",
        "\n",
        "\n"
      ],
      "metadata": {
        "id": "C-m0MM5zinPd"
      }
    },
    {
      "cell_type": "code",
      "source": [],
      "metadata": {
        "id": "AZavD5ugisHT"
      },
      "execution_count": null,
      "outputs": []
    }
  ],
  "metadata": {
    "colab": {
      "provenance": [],
      "include_colab_link": true
    },
    "kernelspec": {
      "display_name": "Python 3",
      "name": "python3"
    }
  },
  "nbformat": 4,
  "nbformat_minor": 0
}