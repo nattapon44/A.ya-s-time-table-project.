{
  "nbformat": 4,
  "nbformat_minor": 0,
  "metadata": {
    "colab": {
      "provenance": [],
      "authorship_tag": "ABX9TyNK/GuHukbFOU0qMqC89epP",
      "include_colab_link": true
    },
    "kernelspec": {
      "name": "python3",
      "display_name": "Python 3"
    },
    "language_info": {
      "name": "python"
    }
  },
  "cells": [
    {
      "cell_type": "markdown",
      "metadata": {
        "id": "view-in-github",
        "colab_type": "text"
      },
      "source": [
        "<a href=\"https://colab.research.google.com/github/nattapon44/time-table-project/blob/main/model.ipynb\" target=\"_parent\"><img src=\"https://colab.research.google.com/assets/colab-badge.svg\" alt=\"Open In Colab\"/></a>"
      ]
    },
    {
      "cell_type": "markdown",
      "source": [
        "# **DATA**"
      ],
      "metadata": {
        "id": "89NP1kc-U-7V"
      }
    },
    {
      "cell_type": "markdown",
      "source": [
        "A set of time period T"
      ],
      "metadata": {
        "id": "o3dhY4feVHiN"
      }
    },
    {
      "cell_type": "code",
      "source": [
        "T = { 1: {\"Day\": (1, \"Monday\"),\n",
        "\t\t      \"Hour\": (1, \"8 am\"),\n",
        "\t\t      \"Cost\": 1},\n",
        "   \t  2: {\"Day\": (1, \"Monday\"),\n",
        "\t\t      \"Hour\": (2, \"8:30 am\"),\n",
        "\t \t      \"Cost\": 1},\n",
        "\t    3: {\"Day\": (1, \"Monday\"),\n",
        "\t     \t  \"Hour\": (3, \"9 am\"),\n",
        "\t     \t  \"Cost\": 0.8},\n",
        "\t    4: {\"Day\": (1, \"Monday\"),\n",
        "\t\t      \"Hour\": (4, \"9:30 am\"),\n",
        "\t\t      \"Cost\": 0.8},\n",
        "   \t  5: {\"Day\": (1, \"Monday\"),\n",
        "\t\t      \"Hour\": (5, \"10 am\"),\n",
        "\t \t      \"Cost\": 0.7},\n",
        "\t    6: {\"Day\": (1, \"Monday\"),\n",
        "\t     \t  \"Hour\": (6, \"10:30 am\"),\n",
        "\t     \t  \"Cost\": 0.6},\n",
        "      7: {\"Day\": (1, \"Monday\"),\n",
        "\t     \t  \"Hour\": (7, \"11 am\"),\n",
        "\t     \t  \"Cost\": 0.6},\n",
        "      8: {\"Day\": (1, \"Monday\"),\n",
        "\t\t      \"Hour\": (8, \"11:30 am\"),\n",
        "\t\t      \"Cost\": 0.7},\n",
        "   \t  9: {\"Day\": (1, \"Monday\"),\n",
        "\t\t      \"Hour\": (9, \"1 pm\"),\n",
        "\t \t      \"Cost\": 0.7},\n",
        "\t    10: {\"Day\": (1, \"Monday\"),\n",
        "\t     \t  \"Hour\": (10, \"1:30 pm\"),\n",
        "\t     \t  \"Cost\": 0.7},\n",
        "\t    11: {\"Day\": (1, \"Monday\"),\n",
        "\t\t      \"Hour\": (11, \"2 pm\"),\n",
        "\t\t      \"Cost\": 0.6},\n",
        "   \t  12: {\"Day\": (1, \"Monday\"),\n",
        "\t\t      \"Hour\": (12, \"2:30 pm\"),\n",
        "\t \t      \"Cost\": 0.6},\n",
        "\t    13: {\"Day\": (1, \"Monday\"),\n",
        "\t     \t  \"Hour\": (13, \"3 pm\"),\n",
        "\t     \t  \"Cost\": 0.7},\n",
        "      14: {\"Day\": (1, \"Monday\"),\n",
        "\t     \t  \"Hour\": (14, \"3:30 pm\"),\n",
        "\t     \t  \"Cost\": 0.7},\n",
        "      15: {\"Day\": (1, \"Monday\"),\n",
        "\t\t      \"Hour\": (15, \"4 pm\"),\n",
        "\t\t      \"Cost\": 0.8},\n",
        "   \t  16: {\"Day\": (1, \"Monday\"),\n",
        "\t\t      \"Hour\": (16, \"4:30 pm\"),\n",
        "\t \t      \"Cost\": 0.9},\n",
        "\t    17: {\"Day\": (1, \"Monday\"),\n",
        "\t     \t  \"Hour\": (17, \"5 pm\"),\n",
        "\t     \t  \"Cost\": 0.9},\n",
        "\t    18: {\"Day\": (1, \"Monday\"),\n",
        "\t\t      \"Hour\": (18, \"5:30 pm\"),\n",
        "\t\t      \"Cost\": 1},\n",
        "      19: {\"Day\": (2, \"Tuesday\"),\n",
        "\t\t      \"Hour\": (1, \"8 am\"),\n",
        "\t\t      \"Cost\": 1},\n",
        "   \t  20: {\"Day\": (2, \"Tuesday\"),\n",
        "\t\t      \"Hour\": (2, \"8:30 am\"),\n",
        "\t \t      \"Cost\": 1},\n",
        "\t    21: {\"Day\": (2, \"Tuesday\"),\n",
        "\t     \t  \"Hour\": (3, \"9 am\"),\n",
        "\t     \t  \"Cost\": 0.8},\n",
        "\t    22: {\"Day\": (2, \"Tuesday\"),\n",
        "\t\t      \"Hour\": (4, \"9:30 am\"),\n",
        "\t\t      \"Cost\": 0.8},\n",
        "   \t  23: {\"Day\": (2, \"Tuesday\"),\n",
        "\t\t      \"Hour\": (5, \"10 am\"),\n",
        "\t \t      \"Cost\": 0.7},\n",
        "\t    24: {\"Day\": (2, \"Tuesday\"),\n",
        "\t     \t  \"Hour\": (6, \"10:30 am\"),\n",
        "\t     \t  \"Cost\": 0.7},\n",
        "      25: {\"Day\": (2, \"Tuesday\"),\n",
        "\t     \t  \"Hour\": (7, \"11 am\"),\n",
        "\t     \t  \"Cost\": 0.6},\n",
        "      26: {\"Day\": (2, \"Tuesday\"),\n",
        "\t\t      \"Hour\": (8, \"11:30 am\"),\n",
        "\t\t      \"Cost\": 0.8},\n",
        "   \t  27: {\"Day\": (2, \"Tuesday\"),\n",
        "\t\t      \"Hour\": (9, \"1 pm\"),\n",
        "\t \t      \"Cost\": 0.7},\n",
        "\t    28: {\"Day\": (2, \"Tuesday\"),\n",
        "\t     \t  \"Hour\": (10, \"1:30 pm\"),\n",
        "\t     \t  \"Cost\": 0.7},\n",
        "\t    29: {\"Day\": (2, \"Tuesday\"),\n",
        "\t\t      \"Hour\": (11, \"2 pm\"),\n",
        "\t\t      \"Cost\": 0.6},\n",
        "   \t  30: {\"Day\": (2, \"Tuesday\"),\n",
        "\t\t      \"Hour\": (12, \"2:30 pm\"),\n",
        "\t \t      \"Cost\": 0.6},\n",
        "\t    31: {\"Day\": (2, \"Tuesday\"),\n",
        "\t     \t  \"Hour\": (13, \"3 pm\"),\n",
        "\t     \t  \"Cost\": 0.5},\n",
        "      32: {\"Day\": (2, \"Tuesday\"),\n",
        "\t     \t  \"Hour\": (14, \"3:30 pm\"),\n",
        "\t     \t  \"Cost\": 0.7},\n",
        "      33: {\"Day\": (2, \"Tuesday\"),\n",
        "\t\t      \"Hour\": (15, \"4 pm\"),\n",
        "\t\t      \"Cost\": 0.7},\n",
        "   \t  34: {\"Day\": (2, \"Tuesday\"),\n",
        "\t\t      \"Hour\": (16, \"4:30 pm\"),\n",
        "\t \t      \"Cost\": 0.8},\n",
        "\t    35: {\"Day\": (2, \"Tuesday\"),\n",
        "\t     \t  \"Hour\": (17, \"5 pm\"),\n",
        "\t     \t  \"Cost\": 0.8},\n",
        "\t    36: {\"Day\": (2, \"Tuesday\"),\n",
        "\t\t      \"Hour\": (18, \"5:30 pm\"),\n",
        "\t\t      \"Cost\": 1},\n",
        "      37: {\"Day\": (3, \"Wednesday\"),\n",
        "\t\t      \"Hour\": (1, \"8 am\"),\n",
        "\t\t      \"Cost\": 1},\n",
        "   \t  38: {\"Day\": (3, \"Wednesday\"),\n",
        "\t\t      \"Hour\": (2, \"8:30 am\"),\n",
        "\t \t      \"Cost\": 1},\n",
        "\t    39: {\"Day\": (3, \"Wednesday\"),\n",
        "\t     \t  \"Hour\": (3, \"9 am\"),\n",
        "\t     \t  \"Cost\": 0.7},\n",
        "\t    40: {\"Day\": (3, \"Wednesday\"),\n",
        "\t\t      \"Hour\": (4, \"9:30 am\"),\n",
        "\t\t      \"Cost\": 0.7},\n",
        "   \t  41: {\"Day\": (3, \"Wednesday\"),\n",
        "\t\t      \"Hour\": (5, \"10 am\"),\n",
        "\t \t      \"Cost\": 0.6},\n",
        "\t    42: {\"Day\": (3, \"Wednesday\"),\n",
        "\t     \t  \"Hour\": (6, \"10:30 am\"),\n",
        "\t     \t  \"Cost\": 0.5},\n",
        "      43: {\"Day\": (3, \"Wednesday\"),\n",
        "\t     \t  \"Hour\": (7, \"11 am\"),\n",
        "\t     \t  \"Cost\": 0.5},\n",
        "      44: {\"Day\": (3, \"Wednesday\"),\n",
        "\t\t      \"Hour\": (8, \"11:30 am\"),\n",
        "\t\t      \"Cost\": 0.6},\n",
        "   \t  45: {\"Day\": (3, \"Wednesday\"),\n",
        "\t\t      \"Hour\": (9, \"1 pm\"),\n",
        "\t \t      \"Cost\": 0.7},\n",
        "\t    46: {\"Day\": (3, \"Wednesday\"),\n",
        "\t     \t  \"Hour\": (10, \"1:30 pm\"),\n",
        "\t     \t  \"Cost\": 0.7},\n",
        "\t    47: {\"Day\": (3, \"Wednesday\"),\n",
        "\t\t      \"Hour\": (11, \"2 pm\"),\n",
        "\t\t      \"Cost\": 0.6},\n",
        "   \t  48: {\"Day\": (3, \"Wednesday\"),\n",
        "\t\t      \"Hour\": (12, \"2:30 pm\"),\n",
        "\t \t      \"Cost\": 0.5},\n",
        "\t    49: {\"Day\": (3, \"Wednesday\"),\n",
        "\t     \t  \"Hour\": (13, \"3 pm\"),\n",
        "\t     \t  \"Cost\": 0.5},\n",
        "      50: {\"Day\": (3, \"Wednesday\"),\n",
        "\t     \t  \"Hour\": (14, \"3:30 pm\"),\n",
        "\t     \t  \"Cost\": 0.6},\n",
        "      51: {\"Day\": (3, \"Wednesday\"),\n",
        "\t\t      \"Hour\": (15, \"4 pm\"),\n",
        "\t\t      \"Cost\": 0.6},\n",
        "   \t  52: {\"Day\": (3, \"Wednesday\"),\n",
        "\t\t      \"Hour\": (16, \"4:30 pm\"),\n",
        "\t \t      \"Cost\": 0.7},\n",
        "\t    53: {\"Day\": (3, \"Wednesday\"),\n",
        "\t     \t  \"Hour\": (17, \"5 pm\"),\n",
        "\t     \t  \"Cost\": 0.8},\n",
        "\t    54: {\"Day\": (3, \"Wednesday\"),\n",
        "\t\t      \"Hour\": (18, \"5:30 pm\"),\n",
        "\t\t      \"Cost\": 0.9},\n",
        "      55: {\"Day\": (4, \"Thursday\"),\n",
        "\t\t      \"Hour\": (1, \"8 am\"),\n",
        "\t\t      \"Cost\": 1},\n",
        "   \t  56: {\"Day\": (4, \"Thursday\"),\n",
        "\t\t      \"Hour\": (2, \"8:30 am\"),\n",
        "\t \t      \"Cost\": 1},\n",
        "\t    57: {\"Day\": (4, \"Thursday\"),\n",
        "\t     \t  \"Hour\": (3, \"9 am\"),\n",
        "\t     \t  \"Cost\": 0.6},\n",
        "\t    58: {\"Day\": (4, \"Thursday\"),\n",
        "\t\t      \"Hour\": (4, \"9:30 am\"),\n",
        "\t\t      \"Cost\": 0.6},\n",
        "   \t  59: {\"Day\": (4, \"Thursday\"),\n",
        "\t\t      \"Hour\": (5, \"10 am\"),\n",
        "\t \t      \"Cost\": 0.6},\n",
        "\t    60: {\"Day\": (4, \"Thursday\"),\n",
        "\t     \t  \"Hour\": (6, \"10:30 am\"),\n",
        "\t     \t  \"Cost\": 0.5},\n",
        "      61: {\"Day\": (4, \"Thursday\"),\n",
        "\t     \t  \"Hour\": (7, \"11 am\"),\n",
        "\t     \t  \"Cost\": 0.5},\n",
        "      62: {\"Day\": (4, \"Thursday\"),\n",
        "\t\t      \"Hour\": (8, \"11:30 am\"),\n",
        "\t\t      \"Cost\": 0.8},\n",
        "   \t  63: {\"Day\": (4, \"Thursday\"),\n",
        "\t\t      \"Hour\": (9, \"1 pm\"),\n",
        "\t \t      \"Cost\": 0.7},\n",
        "\t    64: {\"Day\": (4, \"Thursday\"),\n",
        "\t     \t  \"Hour\": (10, \"1:30 pm\"),\n",
        "\t     \t  \"Cost\": 0.6},\n",
        "\t    65: {\"Day\": (4, \"Thursday\"),\n",
        "\t\t      \"Hour\": (11, \"2 pm\"),\n",
        "\t\t      \"Cost\": 0.6},\n",
        "   \t  66: {\"Day\": (4, \"Thursday\"),\n",
        "\t\t      \"Hour\": (412, \"2:30 pm\"),\n",
        "\t \t      \"Cost\": 0.5},\n",
        "\t    67: {\"Day\": (4, \"Thursday\"),\n",
        "\t     \t  \"Hour\": (13, \"3 pm\"),\n",
        "\t     \t  \"Cost\": 0.7},\n",
        "      68: {\"Day\": (4, \"Thursday\"),\n",
        "\t     \t  \"Hour\": (14, \"3:30 pm\"),\n",
        "\t     \t  \"Cost\": 0.8},\n",
        "      69: {\"Day\": (4, \"Thursday\"),\n",
        "\t\t      \"Hour\": (15, \"4 pm\"),\n",
        "\t\t      \"Cost\": 0.8},\n",
        "   \t  70: {\"Day\": (4, \"Thursday\"),\n",
        "\t\t      \"Hour\": (16, \"4:30 pm\"),\n",
        "\t \t      \"Cost\": 0.8},\n",
        "\t    71: {\"Day\": (4, \"Thursday\"),\n",
        "\t     \t  \"Hour\": (17, \"5 pm\"),\n",
        "\t     \t  \"Cost\": 0.8},\n",
        "\t    72: {\"Day\": (4, \"Thursday\"),\n",
        "\t\t      \"Hour\": (18, \"5:30 pm\"),\n",
        "\t\t      \"Cost\": 0.9},\n",
        "      73: {\"Day\": (5, \"Friday\"),\n",
        "\t\t      \"Hour\": (1, \"8 am\"),\n",
        "\t\t      \"Cost\": 1},\n",
        "   \t  74: {\"Day\": (5, \"Friday\"),\n",
        "\t\t      \"Hour\": (2, \"8:30 am\"),\n",
        "\t \t      \"Cost\": 1},\n",
        "\t    75: {\"Day\": (5, \"Friday\"),\n",
        "\t     \t  \"Hour\": (3, \"9 am\"),\n",
        "\t     \t  \"Cost\": 0.8},\n",
        "\t    76: {\"Day\": (5, \"Friday\"),\n",
        "\t\t      \"Hour\": (4, \"9:30 am\"),\n",
        "\t\t      \"Cost\": 0.8},\n",
        "   \t  77: {\"Day\": (5, \"Friday\"),\n",
        "\t\t      \"Hour\": (5, \"10 am\"),\n",
        "\t \t      \"Cost\": 0.7},\n",
        "\t    78: {\"Day\": (5, \"Friday\"),\n",
        "\t     \t  \"Hour\": (6, \"10:30 am\"),\n",
        "\t     \t  \"Cost\": 0.5},\n",
        "      79: {\"Day\": (5, \"Friday\"),\n",
        "\t     \t  \"Hour\": (7, \"11 am\"),\n",
        "\t     \t  \"Cost\": 0.5},\n",
        "      80: {\"Day\": (5, \"Friday\"),\n",
        "\t\t      \"Hour\": (8, \"11:30 am\"),\n",
        "\t\t      \"Cost\": 0.6},\n",
        "   \t  81: {\"Day\": (5, \"Friday\"),\n",
        "\t\t      \"Hour\": (9, \"1 pm\"),\n",
        "\t \t      \"Cost\": 0.7},\n",
        "\t    82: {\"Day\": (5, \"Friday\"),\n",
        "\t     \t  \"Hour\": (10, \"1:30 pm\"),\n",
        "\t     \t  \"Cost\": 0.6},\n",
        "\t    83: {\"Day\": (5, \"Friday\"),\n",
        "\t\t      \"Hour\": (11, \"2 pm\"),\n",
        "\t\t      \"Cost\": 0.6},\n",
        "   \t  84: {\"Day\": (5, \"Friday\"),\n",
        "\t\t      \"Hour\": (12, \"2:30 pm\"),\n",
        "\t \t      \"Cost\": 0.5},\n",
        "\t    85: {\"Day\": (5, \"Friday\"),\n",
        "\t     \t  \"Hour\": (13, \"3 pm\"),\n",
        "\t     \t  \"Cost\": 0.5},\n",
        "      86: {\"Day\": (5, \"Friday\"),\n",
        "\t     \t  \"Hour\": (14, \"3:30 pm\"),\n",
        "\t     \t  \"Cost\": 0.7},\n",
        "      87: {\"Day\": (5, \"Friday\"),\n",
        "\t\t      \"Hour\": (15, \"4 pm\"),\n",
        "\t\t      \"Cost\": 0.7},\n",
        "   \t  88: {\"Day\": (5, \"Friday\"),\n",
        "\t\t      \"Hour\": (16, \"4:30 pm\"),\n",
        "\t \t      \"Cost\": 0.8},\n",
        "\t    89: {\"Day\": (5, \"Friday\"),\n",
        "\t     \t  \"Hour\": (17, \"5 pm\"),\n",
        "\t     \t  \"Cost\": 0.9},\n",
        "\t    90: {\"Day\": (5, \"Friday\"),\n",
        "\t\t      \"Hour\": (18, \"5:30 pm\"),\n",
        "\t\t      \"Cost\": 1}}"
      ],
      "metadata": {
        "id": "uUAWr-43U-p1"
      },
      "execution_count": 136,
      "outputs": []
    },
    {
      "cell_type": "markdown",
      "source": [
        "A set of Room R"
      ],
      "metadata": {
        "id": "HiQzNU2JVT7X"
      }
    },
    {
      "cell_type": "code",
      "execution_count": 144,
      "metadata": {
        "id": "Cw_TA_gVUZMR"
      },
      "outputs": [],
      "source": [
        "R = {1: {\"Name\":'SC6409',\n",
        "\t\t \"Capacity\": 40,\n",
        "\t\t \"Type\": \"Lab\",\n",
        "\t\t \"Cost\": 0},\n",
        "\t   2: {\"Name\":'SC6501',\n",
        "\t\t \"Capacity\": 60,\n",
        "\t\t \"Type\": \"lecture\",\n",
        "\t\t \"Cost\": 0}}"
      ]
    },
    {
      "cell_type": "markdown",
      "source": [
        "A set of courses C"
      ],
      "metadata": {
        "id": "rJ7datfBVdJV"
      }
    },
    {
      "cell_type": "code",
      "source": [
        "C = {1: {\"courseName\": 'Experimental Design',\n",
        "         \"teachers\": {1:'Wannaporn'},\n",
        "         \"courseCapacity\": 40,\n",
        "         \"hoursPerWeek\": [2,2]},\n",
        "         \"typeOfStudy\": [\"lecture\", \"lecture\"],\n",
        "     2: {\"courseName\": 'Research Methodology',\n",
        "         \"teachers\": {2:'Sukanya'},\n",
        "         \"courseCapacity\": 80,\n",
        "         \"hoursPerWeek\": [2,2]},\n",
        "         \"typeOfStudy\": [\"lecture\", \"lecture\"],\n",
        "     3: {\"courseName\": 'Linear Programming',\n",
        "         \"teachers\": {2:'Sukanya'},\n",
        "         \"courseCapacity\": 40,\n",
        "         \"hoursPerWeek\": [2,2]},\n",
        "         \"typeOfStudy\": [\"lecture\", \"lecture\"],\n",
        "     4: {\"courseName\": 'Basic of Data Science',\n",
        "         \"teachers\": {3:'Pitchaya'},\n",
        "         \"courseCapacity\": 40,\n",
        "         \"hoursPerWeek\": [2,2]},\n",
        "         \"typeOfStudy\": [\"lecture\", \"lecture\"],\n",
        "     5: {\"courseName\": 'Data Processing',\n",
        "         \"teachers\": {1:'Wannaporn', 3:'Pitchaya'},\n",
        "         \"courseCapacity\": 40,\n",
        "         \"hoursPerWeek\": [2,2]},\n",
        "         \"typeOfStudy\": [\"lecture\", \"lecture\"],\n",
        "     }"
      ],
      "metadata": {
        "id": "iYsL38LsVgVz"
      },
      "execution_count": 137,
      "outputs": []
    },
    {
      "cell_type": "markdown",
      "source": [
        "A set of professor P"
      ],
      "metadata": {
        "id": "-bxN3Y4lVjeu"
      }
    },
    {
      "cell_type": "code",
      "source": [
        "P = {1: {'Name':'Wannaporn',\n",
        "\t\t 'Availability': [1, 2, 3, 4, 5, 6, 7, 8, 9, 10, 11, 12, 13, 14, 15, 16, 17, 18, 19, 20, 21, 22, 23, 24, 25, 26, 27, 28, 29, 30, 31, 32, 33, 34, 35, 36, 37, 38, 39, 40, 41, 42, 43, 44, 45,\n",
        "\t\t                  46, 47, 48, 49, 50, 51, 52, 53, 54, 55, 56, 57, 58, 59, 60, 61, 62, 63, 64, 65, 66, 67, 68, 69, 70, 71, 72 ,73, 74, 75, 76, 77, 78, 79, 80, 81, 82, 83, 84, 85, 86, 87, 88, 89, 90]},\n",
        "\t   2: {'Name':'Sukanya',\n",
        "\t\t 'Availability': [1, 2, 3, 4, 5, 6, 7, 8, 9, 10, 11, 12, 13, 14, 15, 16, 17, 18, 19, 20, 21, 22, 23, 24, 25, 26, 27, 28, 29, 30, 31, 32, 33, 34, 35, 36, 37, 38, 39, 40, 41, 42, 43, 44, 45,\n",
        "\t\t                  46, 47, 48, 49, 50, 51, 52, 53, 54, 55, 56, 57, 58, 59, 60, 61, 62, 63, 64, 65, 66, 67, 68, 69, 70, 71, 72 ,73, 74, 75, 76, 77, 78, 79, 80, 81, 82, 83, 84, 85, 86, 87, 88, 89, 90]},\n",
        "     3: {'Name':'Pitchaya',\n",
        "\t\t 'Availability': [1, 2, 3, 4, 5, 6, 7, 8, 9, 10, 11, 12, 13, 14, 15, 16, 17, 18, 19, 20, 21, 22, 23, 24, 25, 26, 27, 28, 29, 30, 31, 32, 33, 34, 35, 36, 37, 38, 39, 40, 41, 42, 43, 44, 45,\n",
        "\t\t                  46, 47, 48, 49, 50, 51, 52, 53, 54, 55, 56, 57, 58, 59, 60, 61, 62, 63, 64, 65, 66, 67, 68, 69, 70, 71, 72 ,73, 74, 75, 76, 77, 78, 79, 80, 81, 82, 83, 84, 85, 86, 87, 88, 89, 90]},\n",
        "    }\n"
      ],
      "metadata": {
        "id": "DkEN2iAMVmbL"
      },
      "execution_count": 138,
      "outputs": []
    },
    {
      "cell_type": "markdown",
      "source": [
        "A set of students S"
      ],
      "metadata": {
        "id": "s8w7CWHJVubG"
      }
    },
    {
      "cell_type": "code",
      "source": [
        "S = { 1: {'StudentID': '633020301',\n",
        "          'Major': 'STAT',\n",
        "          'Year': 3,\n",
        "          'courseRegister':  {1:\"Experimental Design\", 2:\"Research Methodology\", 3:\"Linear Programming\", 4:\"Basic of Data Science\", 5:\"Data Processing\"},\n",
        "          'Prerequiste': {}},\n",
        "      2: {'StudentID': '633020302',\n",
        "          'Major': 'STAT',\n",
        "          'Year': 3,\n",
        "          'courseRegister':  {1:\"Experimental Design\", 2:\"Research Methodology\", 3:\"Linear Programming\", 4:\"Basic of Data Science\", 5:\"Data Processing\"},\n",
        "          'Prerequiste': {}},\n",
        "      3: {'StudentID': '633020303',\n",
        "          'Major': 'STAT',\n",
        "          'Year': 3,\n",
        "          'courseRegister':  {1:\"Experimental Design\", 2:\"Research Methodology\", 3:\"Linear Programming\", 4:\"Basic of Data Science\", 5:\"Data Processing\"},\n",
        "          'Prerequiste': {}},\n",
        "      4: {'StudentID': '633020304',\n",
        "          'Major': 'STAT',\n",
        "          'Year': 3,\n",
        "          'courseRegister':  {1:\"Experimental Design\", 2:\"Research Methodology\", 3:\"Linear Programming\", 4:\"Basic of Data Science\", 5:\"Data Processing\"},\n",
        "          'Prerequiste': {}},\n",
        "      5: {'StudentID': '633020305',\n",
        "          'Major': 'STAT',\n",
        "          'Year': 3,\n",
        "          'courseRegister':  {2:\"Research Methodology\", 4:\"Basic of Data Science\", 5:\"Data Processing\"},\n",
        "          'Prerequiste': {}},\n",
        "      6: {'StudentID': '633020306',\n",
        "          'Major': 'SIDS',\n",
        "          'Year': 3,\n",
        "          'courseRegister':  {2:\"Research Methodology\", 4:\"Basic of Data Science\", 5:\"Data Processing\"},\n",
        "          'Prerequiste': {}},\n",
        "      7: {'StudentID': '633020307',\n",
        "          'Major': 'SIDS',\n",
        "          'Year': 3,\n",
        "          'courseRegister':  {2:\"Research Methodology\", 4:\"Basic of Data Science\", 5:\"Data Processing\"},\n",
        "          'Prerequiste': {}},\n",
        "      8: {'StudentID': '633020308',\n",
        "          'Major': 'SIDS',\n",
        "          'Year': 3,\n",
        "          'courseRegister':  {2:\"Research Methodology\", 4:\"Basic of Data Science\", 5:\"Data Processing\"},\n",
        "          'Prerequiste': {}},\n",
        "      9: {'StudentID': '633020309',\n",
        "          'Major': 'SIDS',\n",
        "          'Year': 3,\n",
        "          'courseRegister':  {2:\"Research Methodology\", 4:\"Basic of Data Science\", 5:\"Data Processing\"},\n",
        "          'Prerequiste': {}},\n",
        "      10: {'StudentID': '633020310',\n",
        "          'Major': 'SIDS',\n",
        "          'Year': 3,\n",
        "          'courseRegister':  {2:\"Research Methodology\", 4:\"Basic of Data Science\", 5:\"Data Processing\"},\n",
        "          'Prerequiste': {}},\n",
        "          }"
      ],
      "metadata": {
        "id": "OkMU5cU7Vwcs"
      },
      "execution_count": 139,
      "outputs": []
    },
    {
      "cell_type": "markdown",
      "source": [
        "# **Model**"
      ],
      "metadata": {
        "id": "WcA75w5KVypQ"
      }
    },
    {
      "cell_type": "markdown",
      "source": [
        "x_srpct"
      ],
      "metadata": {
        "id": "QZWXiEYucNiT"
      }
    },
    {
      "cell_type": "markdown",
      "source": [
        "prepare all data structures"
      ],
      "metadata": {
        "id": "y9GmImenbJb8"
      }
    },
    {
      "cell_type": "code",
      "source": [
        "!pip install pyomo\n",
        "import sys\n",
        "import numpy as np\n",
        "from pyomo import environ as pe"
      ],
      "metadata": {
        "colab": {
          "base_uri": "https://localhost:8080/"
        },
        "id": "cVaBhVMGb3Iy",
        "outputId": "3c2d0cd7-a31d-485d-b78d-c1da7e2012a1"
      },
      "execution_count": 6,
      "outputs": [
        {
          "output_type": "stream",
          "name": "stdout",
          "text": [
            "Collecting pyomo\n",
            "  Downloading Pyomo-6.6.2-cp310-cp310-manylinux_2_17_x86_64.manylinux2014_x86_64.whl (12.7 MB)\n",
            "\u001b[2K     \u001b[90m━━━━━━━━━━━━━━━━━━━━━━━━━━━━━━━━━━━━━━━━\u001b[0m \u001b[32m12.7/12.7 MB\u001b[0m \u001b[31m26.8 MB/s\u001b[0m eta \u001b[36m0:00:00\u001b[0m\n",
            "\u001b[?25hCollecting ply (from pyomo)\n",
            "  Downloading ply-3.11-py2.py3-none-any.whl (49 kB)\n",
            "\u001b[2K     \u001b[90m━━━━━━━━━━━━━━━━━━━━━━━━━━━━━━━━━━━━━━━━\u001b[0m \u001b[32m49.6/49.6 kB\u001b[0m \u001b[31m4.5 MB/s\u001b[0m eta \u001b[36m0:00:00\u001b[0m\n",
            "\u001b[?25hInstalling collected packages: ply, pyomo\n",
            "Successfully installed ply-3.11 pyomo-6.6.2\n"
          ]
        }
      ]
    },
    {
      "cell_type": "code",
      "source": [
        "# ConcreteModel is model where data values supplied at the time of the model definition. As opposite to AbstractModel where data values are supplied in data file\n",
        "model = pe.ConcreteModel()\n",
        "# all iterables are to be converted into Set objects\n",
        "model.S_student = pe.Set(initialize = S.keys())\n",
        "model.R_room = pe.Set(initialize = R.keys())\n",
        "model.P_professor = pe.Set(initialize = P.keys())\n",
        "model.C_course = pe.Set(initialize = C.keys())\n",
        "model.T_time = pe.Set(initialize = T.keys())\n",
        "\n",
        "# Parameters\n",
        "# Cartesian product of two sets creates list of tuples [((i1,j1),v1),((i2,j2),v2),...] !!!\n",
        "model.student = pe.Param(model.S_student, within = pe.NonNegativeReals)\n",
        "model.room = pe.Param(model.R_room, within = pe.NonNegativeIntegers)\n",
        "model.professor = pe.Param(model.P_professor, within = pe.NonNegativeIntegers)\n",
        "model.course = pe.Param(model.C_course, within = pe.NonNegativeIntegers)\n",
        "model.time = pe.Param(model.T_time, within = pe.NonNegativeIntegers)"
      ],
      "metadata": {
        "id": "DsFSBCM4bJtA"
      },
      "execution_count": 145,
      "outputs": []
    },
    {
      "cell_type": "markdown",
      "source": [
        "decision variables."
      ],
      "metadata": {
        "id": "FGcZSB1UXIkz"
      }
    },
    {
      "cell_type": "code",
      "source": [
        "from pyomo.environ import *\n",
        "model.x = pe.Var(\n",
        "    model.S_student * model.R_room * model.P_professor * model.C_course * model.T_time,\n",
        "    domain = pe.NonNegativeReals,\n",
        "    bounds = (0,max(R)))\n"
      ],
      "metadata": {
        "id": "jbjzX19GXISC"
      },
      "execution_count": 146,
      "outputs": []
    },
    {
      "cell_type": "markdown",
      "source": [
        "objective function."
      ],
      "metadata": {
        "id": "NiCoAE3hYMdt"
      }
    },
    {
      "cell_type": "code",
      "source": [
        "#model.objective = pe.Objective(\n",
        " #   expr = pe.summation(model.x),\n",
        "  #  sense = pe.minimize)\n",
        "#def Objective_rule(model):\n",
        "#    return pe.summation(model.x)\n",
        "#model.Objective = pe.Objective(rule=Objective_rule)\n",
        "\n",
        "def objective_rule(model):\n",
        "    return sum(model.x[s, r, p, c, t] * T[t][\"Cost\"] for s in model.S_student for r in model.R_room for p in model.P_professor for c in model.C_course for t in model.T_time)\n",
        "\n",
        "model.objective = pe.Objective(rule=objective_rule, sense=pe.minimize)\n"
      ],
      "metadata": {
        "id": "OVs-69IhYM7Z"
      },
      "execution_count": 147,
      "outputs": []
    },
    {
      "cell_type": "markdown",
      "source": [
        "define constraints."
      ],
      "metadata": {
        "id": "TrTH8Z2oYgSz"
      }
    },
    {
      "cell_type": "code",
      "source": [
        "# กำหนด Constraints\n",
        "# Constraints 1: นักศึกษาไม่สามารถเรียนมากกว่าหนึ่งรายวิชาในวันเดียวกัน\n",
        "def one_class_per_day_constraint(model, s, t):\n",
        "    return sum(model.x[s, r, p, c, t] for r in model.R_room for p in model.P_professor for c in model.C_course) <= 1\n",
        "\n",
        "model.one_class_per_day = pe.Constraint(model.S_student, model.T_time, rule=one_class_per_day_constraint)\n",
        "\n",
        "# Constraints 2: ห้องเรียนไม่สามารถเรียนมากกว่า 1 รายวิชาในวันเดียวกัน\n",
        "def one_class_per_room_per_day_constraint(model, r, t):\n",
        "    return sum(model.x[s, r, p, c, t] for s in model.S_student for p in model.P_professor for c in model.C_course) <= 1\n",
        "\n",
        "model.one_class_per_room_per_day = pe.Constraint(model.R_room, model.T_time, rule=one_class_per_room_per_day_constraint)\n",
        "\n",
        "# Constraints 3: อาจารย์ผู้สอนหนึ่งคนไม่สามารถสอนมากกว่าหนึ่งวิชาและห้องเรียนกลุ่มในเวลาเดียวกัน\n",
        "def one_class_per_professor_and_room_constraint(model, p, r, t):\n",
        "    return sum(model.x[s, r, p, c, t] for s in model.S_student for c in model.C_course) <= 1\n",
        "\n",
        "model.one_class_per_professor_and_room = pe.Constraint(model.P_professor, model.R_room, model.T_time, rule=one_class_per_professor_and_room_constraint)\n",
        "\n",
        "# Constraints 4: กำหนดรายวิชาในหลักสูตรให้เหมาะสมกับประเภทของห้องเรียน\n",
        "def course_room_type_constraint(model, c, r):\n",
        "    course_type = C[c][\"Type\"]\n",
        "    room_type = R[r][\"Type\"]\n",
        "    return (course_type == \"lab\" and room_type == \"lab\") or (course_type == \"lecture\" and room_type == \"lecture\")\n",
        "\n",
        "model.course_room_type = pe.Constraint(model.C_course, model.R_room, rule=course_room_type_constraint)\n",
        "\n",
        "# Constraints 5: จำนวนนักศึกษาในแต่ละห้องต้องน้อยกว่าความจุห้องเรียน\n",
        "def room_capacity_constraint(model, r, t):\n",
        "    return sum(model.x[s, r, p, c, t] for s in model.S_student for p in model.P_professor for c in model.C_course) <= R[r][\"Capacity\"]\n",
        "\n",
        "model.room_capacity = pe.Constraint(model.R_room, model.T_time, rule=room_capacity_constraint)\n",
        "\n",
        "# Constraints 6: จำนวนนักศึกษาในแต่วิชาจะต้องไม่เกินความจุของรายวิชา\n",
        "def course_capacity_constraint(model, c, t):\n",
        "    return sum(model.x[s, r, p, c, t] for s in model.S_student for r in model.R_room for p in model.P_professor) <= C[c][\"Capacity\"]\n",
        "\n",
        "model.course_capacity = pe.Constraint(model.C_course, model.T_time, rule=course_capacity_constraint)\n",
        "\n",
        "# Constraints 7: แต่ละวิชาเรียนในคาบที่ต่อเนื่องกันในหนึ่งวัน\n",
        "def consecutive_classes_constraint(model, s, t):\n",
        "    for c in model.C_course:\n",
        "        for r in model.R_room:\n",
        "            for p in model.P_professor:\n",
        "                if t < max(model.T_time):\n",
        "                    return model.x[s, r, p, c, t] + model.x[s, r, p, c, t + 1] <= 1\n",
        "    return pe.Constraint.Skip\n",
        "\n",
        "model.consecutive_classes = pe.Constraint(model.S_student, model.T_time, rule=consecutive_classes_constraint)\n",
        "\n",
        "# Constraints 8: ถ้าวิชาไหนเรียนมากกว่าสองวันให้เรียนห่างกันหนึ่งวัน\n",
        "def day_spacing_constraint(model, s, c):\n",
        "    for r in model.R_room:\n",
        "        for p in model.P_professor:\n",
        "            for t in model.T_time:\n",
        "                if t < max(model.T_time) - 1:\n",
        "                    return model.x[s, r, p, c, t] + model.x[s, r, p, c, t + 2] <= 1\n",
        "    return pe.Constraint.Skip\n",
        "\n",
        "model.day_spacing = pe.Constraint(model.S_student, model.C_course, rule=day_spacing_constraint)\n",
        "\n",
        "# Constraints 9: เวลาเรียนในแต่ละคาบจะไม่เกินจำนวนชั่วโมงที่วิชาสอนในแต่ละวัน\n",
        "def class_hours_per_day_constraint(model, s, r, p, t):\n",
        "    return sum(model.x[s, r, p, c, t] * C[c][\"Hours\"] for c in model.C_course) <= T[t][\"Hours\"]\n",
        "\n",
        "model.class_hours_per_day = pe.Constraint(model.S_student, model.R_room, model.P_professor, model.T_time, rule=class_hours_per_day_constraint)\n",
        "\n",
        "# Constraints 10: ไม่มีการเรียนในวิชาที่อาจารย์ไม่ว่างในเวลานั้น\n",
        "def professor_availability_constraint(model, p, t):\n",
        "    return sum(model.x[s, r, p, c, t] for s in model.S_student for r in model.R_room for c in model.C_course) <= 1\n",
        "\n",
        "model.professor_availability = pe.Constraint(model.P_professor, model.T_time, rule=professor_availability_constraint)\n",
        "\n",
        "# Constraints 11: งดเรียนในรายวิชาในช่วงเวลาที่ไม่มีอาจารย์ประจำวิชาตามลำดับ\n",
        "def skip_classes_when_no_professor_constraint(model, s, r, c, t):\n",
        "    if t < max(model.T_time) and t not in P[P.keys()[0]][\"Availability\"]:\n",
        "        return model.x[s, r, p, c, t] + model.x[s, r, p, c, t + 1] == 0\n",
        "    return pe.Constraint.Skip\n",
        "\n",
        "model.skip_classes_when_no_professor = pe.Constraint(model.S_student, model.R_room, model.C_course, model.T_time, rule=skip_classes_when_no_professor_constraint)\n"
      ],
      "metadata": {
        "colab": {
          "base_uri": "https://localhost:8080/",
          "height": 459
        },
        "id": "7RKZ15iD6ULs",
        "outputId": "ead07952-5af2-440d-b941-8f76ce9596fb"
      },
      "execution_count": 148,
      "outputs": [
        {
          "output_type": "stream",
          "name": "stderr",
          "text": [
            "ERROR:pyomo.core:Rule failed when generating expression for Constraint course_room_type with index (1, 1):\n",
            "KeyError: 'Type'\n",
            "ERROR:pyomo.core:Constructing component 'course_room_type' from data=None failed:\n",
            "KeyError: 'Type'\n"
          ]
        },
        {
          "output_type": "error",
          "ename": "KeyError",
          "evalue": "ignored",
          "traceback": [
            "\u001b[0;31m---------------------------------------------------------------------------\u001b[0m",
            "\u001b[0;31mKeyError\u001b[0m                                  Traceback (most recent call last)",
            "\u001b[0;32m<ipython-input-148-3f2a468141e1>\u001b[0m in \u001b[0;36m<cell line: 26>\u001b[0;34m()\u001b[0m\n\u001b[1;32m     24\u001b[0m     \u001b[0;32mreturn\u001b[0m \u001b[0;34m(\u001b[0m\u001b[0mcourse_type\u001b[0m \u001b[0;34m==\u001b[0m \u001b[0;34m\"lab\"\u001b[0m \u001b[0;32mand\u001b[0m \u001b[0mroom_type\u001b[0m \u001b[0;34m==\u001b[0m \u001b[0;34m\"lab\"\u001b[0m\u001b[0;34m)\u001b[0m \u001b[0;32mor\u001b[0m \u001b[0;34m(\u001b[0m\u001b[0mcourse_type\u001b[0m \u001b[0;34m==\u001b[0m \u001b[0;34m\"lecture\"\u001b[0m \u001b[0;32mand\u001b[0m \u001b[0mroom_type\u001b[0m \u001b[0;34m==\u001b[0m \u001b[0;34m\"lecture\"\u001b[0m\u001b[0;34m)\u001b[0m\u001b[0;34m\u001b[0m\u001b[0;34m\u001b[0m\u001b[0m\n\u001b[1;32m     25\u001b[0m \u001b[0;34m\u001b[0m\u001b[0m\n\u001b[0;32m---> 26\u001b[0;31m \u001b[0mmodel\u001b[0m\u001b[0;34m.\u001b[0m\u001b[0mcourse_room_type\u001b[0m \u001b[0;34m=\u001b[0m \u001b[0mpe\u001b[0m\u001b[0;34m.\u001b[0m\u001b[0mConstraint\u001b[0m\u001b[0;34m(\u001b[0m\u001b[0mmodel\u001b[0m\u001b[0;34m.\u001b[0m\u001b[0mC_course\u001b[0m\u001b[0;34m,\u001b[0m \u001b[0mmodel\u001b[0m\u001b[0;34m.\u001b[0m\u001b[0mR_room\u001b[0m\u001b[0;34m,\u001b[0m \u001b[0mrule\u001b[0m\u001b[0;34m=\u001b[0m\u001b[0mcourse_room_type_constraint\u001b[0m\u001b[0;34m)\u001b[0m\u001b[0;34m\u001b[0m\u001b[0;34m\u001b[0m\u001b[0m\n\u001b[0m\u001b[1;32m     27\u001b[0m \u001b[0;34m\u001b[0m\u001b[0m\n\u001b[1;32m     28\u001b[0m \u001b[0;31m# Constraints 5: จำนวนนักศึกษาในแต่ละห้องต้องน้อยกว่าความจุห้องเรียน\u001b[0m\u001b[0;34m\u001b[0m\u001b[0;34m\u001b[0m\u001b[0m\n",
            "\u001b[0;32m/usr/local/lib/python3.10/dist-packages/pyomo/core/base/block.py\u001b[0m in \u001b[0;36m__setattr__\u001b[0;34m(self, name, val)\u001b[0m\n\u001b[1;32m    578\u001b[0m                 \u001b[0;31m# Pyomo components are added with the add_component method.\u001b[0m\u001b[0;34m\u001b[0m\u001b[0;34m\u001b[0m\u001b[0m\n\u001b[1;32m    579\u001b[0m                 \u001b[0;31m#\u001b[0m\u001b[0;34m\u001b[0m\u001b[0;34m\u001b[0m\u001b[0m\n\u001b[0;32m--> 580\u001b[0;31m                 \u001b[0mself\u001b[0m\u001b[0;34m.\u001b[0m\u001b[0madd_component\u001b[0m\u001b[0;34m(\u001b[0m\u001b[0mname\u001b[0m\u001b[0;34m,\u001b[0m \u001b[0mval\u001b[0m\u001b[0;34m)\u001b[0m\u001b[0;34m\u001b[0m\u001b[0;34m\u001b[0m\u001b[0m\n\u001b[0m\u001b[1;32m    581\u001b[0m             \u001b[0;32melse\u001b[0m\u001b[0;34m:\u001b[0m\u001b[0;34m\u001b[0m\u001b[0;34m\u001b[0m\u001b[0m\n\u001b[1;32m    582\u001b[0m                 \u001b[0;31m#\u001b[0m\u001b[0;34m\u001b[0m\u001b[0;34m\u001b[0m\u001b[0m\n",
            "\u001b[0;32m/usr/local/lib/python3.10/dist-packages/pyomo/core/base/block.py\u001b[0m in \u001b[0;36madd_component\u001b[0;34m(self, name, val)\u001b[0m\n\u001b[1;32m   1183\u001b[0m                 )\n\u001b[1;32m   1184\u001b[0m             \u001b[0;32mtry\u001b[0m\u001b[0;34m:\u001b[0m\u001b[0;34m\u001b[0m\u001b[0;34m\u001b[0m\u001b[0m\n\u001b[0;32m-> 1185\u001b[0;31m                 \u001b[0mval\u001b[0m\u001b[0;34m.\u001b[0m\u001b[0mconstruct\u001b[0m\u001b[0;34m(\u001b[0m\u001b[0mdata\u001b[0m\u001b[0;34m)\u001b[0m\u001b[0;34m\u001b[0m\u001b[0;34m\u001b[0m\u001b[0m\n\u001b[0m\u001b[1;32m   1186\u001b[0m             \u001b[0;32mexcept\u001b[0m\u001b[0;34m:\u001b[0m\u001b[0;34m\u001b[0m\u001b[0;34m\u001b[0m\u001b[0m\n\u001b[1;32m   1187\u001b[0m                 \u001b[0merr\u001b[0m \u001b[0;34m=\u001b[0m \u001b[0msys\u001b[0m\u001b[0;34m.\u001b[0m\u001b[0mexc_info\u001b[0m\u001b[0;34m(\u001b[0m\u001b[0;34m)\u001b[0m\u001b[0;34m[\u001b[0m\u001b[0;36m1\u001b[0m\u001b[0;34m]\u001b[0m\u001b[0;34m\u001b[0m\u001b[0;34m\u001b[0m\u001b[0m\n",
            "\u001b[0;32m/usr/local/lib/python3.10/dist-packages/pyomo/core/base/constraint.py\u001b[0m in \u001b[0;36mconstruct\u001b[0;34m(self, data)\u001b[0m\n\u001b[1;32m    804\u001b[0m                 \u001b[0;31m# Bypass the index validation and create the member directly\u001b[0m\u001b[0;34m\u001b[0m\u001b[0;34m\u001b[0m\u001b[0m\n\u001b[1;32m    805\u001b[0m                 \u001b[0;32mfor\u001b[0m \u001b[0mindex\u001b[0m \u001b[0;32min\u001b[0m \u001b[0mself\u001b[0m\u001b[0;34m.\u001b[0m\u001b[0mindex_set\u001b[0m\u001b[0;34m(\u001b[0m\u001b[0;34m)\u001b[0m\u001b[0;34m:\u001b[0m\u001b[0;34m\u001b[0m\u001b[0;34m\u001b[0m\u001b[0m\n\u001b[0;32m--> 806\u001b[0;31m                     \u001b[0mself\u001b[0m\u001b[0;34m.\u001b[0m\u001b[0m_setitem_when_not_present\u001b[0m\u001b[0;34m(\u001b[0m\u001b[0mindex\u001b[0m\u001b[0;34m,\u001b[0m \u001b[0mrule\u001b[0m\u001b[0;34m(\u001b[0m\u001b[0mblock\u001b[0m\u001b[0;34m,\u001b[0m \u001b[0mindex\u001b[0m\u001b[0;34m)\u001b[0m\u001b[0;34m)\u001b[0m\u001b[0;34m\u001b[0m\u001b[0;34m\u001b[0m\u001b[0m\n\u001b[0m\u001b[1;32m    807\u001b[0m         \u001b[0;32mexcept\u001b[0m \u001b[0mException\u001b[0m\u001b[0;34m:\u001b[0m\u001b[0;34m\u001b[0m\u001b[0;34m\u001b[0m\u001b[0m\n\u001b[1;32m    808\u001b[0m             \u001b[0merr\u001b[0m \u001b[0;34m=\u001b[0m \u001b[0msys\u001b[0m\u001b[0;34m.\u001b[0m\u001b[0mexc_info\u001b[0m\u001b[0;34m(\u001b[0m\u001b[0;34m)\u001b[0m\u001b[0;34m[\u001b[0m\u001b[0;36m1\u001b[0m\u001b[0;34m]\u001b[0m\u001b[0;34m\u001b[0m\u001b[0;34m\u001b[0m\u001b[0m\n",
            "\u001b[0;32m/usr/local/lib/python3.10/dist-packages/pyomo/core/base/initializer.py\u001b[0m in \u001b[0;36m__call__\u001b[0;34m(self, parent, idx)\u001b[0m\n\u001b[1;32m    312\u001b[0m         \u001b[0;31m# the user's responsibility to sort things out.\u001b[0m\u001b[0;34m\u001b[0m\u001b[0;34m\u001b[0m\u001b[0m\n\u001b[1;32m    313\u001b[0m         \u001b[0;32mif\u001b[0m \u001b[0midx\u001b[0m\u001b[0;34m.\u001b[0m\u001b[0m__class__\u001b[0m \u001b[0;32mis\u001b[0m \u001b[0mtuple\u001b[0m\u001b[0;34m:\u001b[0m\u001b[0;34m\u001b[0m\u001b[0;34m\u001b[0m\u001b[0m\n\u001b[0;32m--> 314\u001b[0;31m             \u001b[0;32mreturn\u001b[0m \u001b[0mself\u001b[0m\u001b[0;34m.\u001b[0m\u001b[0m_fcn\u001b[0m\u001b[0;34m(\u001b[0m\u001b[0mparent\u001b[0m\u001b[0;34m,\u001b[0m \u001b[0;34m*\u001b[0m\u001b[0midx\u001b[0m\u001b[0;34m)\u001b[0m\u001b[0;34m\u001b[0m\u001b[0;34m\u001b[0m\u001b[0m\n\u001b[0m\u001b[1;32m    315\u001b[0m         \u001b[0;32melse\u001b[0m\u001b[0;34m:\u001b[0m\u001b[0;34m\u001b[0m\u001b[0;34m\u001b[0m\u001b[0m\n\u001b[1;32m    316\u001b[0m             \u001b[0;32mreturn\u001b[0m \u001b[0mself\u001b[0m\u001b[0;34m.\u001b[0m\u001b[0m_fcn\u001b[0m\u001b[0;34m(\u001b[0m\u001b[0mparent\u001b[0m\u001b[0;34m,\u001b[0m \u001b[0midx\u001b[0m\u001b[0;34m)\u001b[0m\u001b[0;34m\u001b[0m\u001b[0;34m\u001b[0m\u001b[0m\n",
            "\u001b[0;32m<ipython-input-148-3f2a468141e1>\u001b[0m in \u001b[0;36mcourse_room_type_constraint\u001b[0;34m(model, c, r)\u001b[0m\n\u001b[1;32m     20\u001b[0m \u001b[0;31m# Constraints 4: กำหนดรายวิชาในหลักสูตรให้เหมาะสมกับประเภทของห้องเรียน\u001b[0m\u001b[0;34m\u001b[0m\u001b[0;34m\u001b[0m\u001b[0m\n\u001b[1;32m     21\u001b[0m \u001b[0;32mdef\u001b[0m \u001b[0mcourse_room_type_constraint\u001b[0m\u001b[0;34m(\u001b[0m\u001b[0mmodel\u001b[0m\u001b[0;34m,\u001b[0m \u001b[0mc\u001b[0m\u001b[0;34m,\u001b[0m \u001b[0mr\u001b[0m\u001b[0;34m)\u001b[0m\u001b[0;34m:\u001b[0m\u001b[0;34m\u001b[0m\u001b[0;34m\u001b[0m\u001b[0m\n\u001b[0;32m---> 22\u001b[0;31m     \u001b[0mcourse_type\u001b[0m \u001b[0;34m=\u001b[0m \u001b[0mC\u001b[0m\u001b[0;34m[\u001b[0m\u001b[0mc\u001b[0m\u001b[0;34m]\u001b[0m\u001b[0;34m[\u001b[0m\u001b[0;34m\"Type\"\u001b[0m\u001b[0;34m]\u001b[0m\u001b[0;34m\u001b[0m\u001b[0;34m\u001b[0m\u001b[0m\n\u001b[0m\u001b[1;32m     23\u001b[0m     \u001b[0mroom_type\u001b[0m \u001b[0;34m=\u001b[0m \u001b[0mR\u001b[0m\u001b[0;34m[\u001b[0m\u001b[0mr\u001b[0m\u001b[0;34m]\u001b[0m\u001b[0;34m[\u001b[0m\u001b[0;34m\"Type\"\u001b[0m\u001b[0;34m]\u001b[0m\u001b[0;34m\u001b[0m\u001b[0;34m\u001b[0m\u001b[0m\n\u001b[1;32m     24\u001b[0m     \u001b[0;32mreturn\u001b[0m \u001b[0;34m(\u001b[0m\u001b[0mcourse_type\u001b[0m \u001b[0;34m==\u001b[0m \u001b[0;34m\"lab\"\u001b[0m \u001b[0;32mand\u001b[0m \u001b[0mroom_type\u001b[0m \u001b[0;34m==\u001b[0m \u001b[0;34m\"lab\"\u001b[0m\u001b[0;34m)\u001b[0m \u001b[0;32mor\u001b[0m \u001b[0;34m(\u001b[0m\u001b[0mcourse_type\u001b[0m \u001b[0;34m==\u001b[0m \u001b[0;34m\"lecture\"\u001b[0m \u001b[0;32mand\u001b[0m \u001b[0mroom_type\u001b[0m \u001b[0;34m==\u001b[0m \u001b[0;34m\"lecture\"\u001b[0m\u001b[0;34m)\u001b[0m\u001b[0;34m\u001b[0m\u001b[0;34m\u001b[0m\u001b[0m\n",
            "\u001b[0;31mKeyError\u001b[0m: 'Type'"
          ]
        }
      ]
    },
    {
      "cell_type": "code",
      "source": [
        "# Constraints: sum of goods == customer demand\n",
        "def meet_demand(model, customer):\n",
        "    sum_of_goods_from_factories = sum(model.x[customer,factory] for factory in model.M_fact_capacity)\n",
        "    customer_demand = model.cust_demand[customer]\n",
        "    return sum_of_goods_from_factories == customer_demand\n",
        "model.Constraint1 = pe.Constraint(model.d_cust_demand, rule = meet_demand)\n",
        "# Constraints: sum of goods <= factory capacity\n",
        "def meet_capacity(model, factory):\n",
        "    sum_of_goods_for_customers = sum(model.x[customer,factory] for customer in model.d_cust_demand)\n",
        "    factory_capacity = model.fact_capacity[factory]\n",
        "    return sum_of_goods_for_customers <= factory_capacity\n",
        "model.Constraint2 = pe.Constraint(model.M_fact_capacity, rule = meet_demand)"
      ],
      "metadata": {
        "id": "_EIU1-zoYgp6"
      },
      "execution_count": null,
      "outputs": []
    },
    {
      "cell_type": "markdown",
      "source": [
        "# **Solve the optimization problem**"
      ],
      "metadata": {
        "id": "DTQ3_O18ZpDO"
      }
    },
    {
      "cell_type": "markdown",
      "source": [
        "Install GLPK to solve the optimization problem."
      ],
      "metadata": {
        "id": "q8WaSIaSZA4q"
      }
    },
    {
      "cell_type": "code",
      "source": [
        "# !sudo apt-get install glpk-utils\n",
        "solver = pe.SolverFactory('glpk', executable='/usr/bin/glpsol')\n",
        "solution = solver.solve(model)"
      ],
      "metadata": {
        "id": "6UseZzDLZatm"
      },
      "execution_count": null,
      "outputs": []
    },
    {
      "cell_type": "markdown",
      "source": [
        "check the results"
      ],
      "metadata": {
        "id": "5ISY6YqJZgrK"
      }
    },
    {
      "cell_type": "code",
      "source": [
        "from pyomo.opt import SolverStatus, TerminationCondition\n",
        "if (solution.solver.status == SolverStatus.ok) and (solution.solver.termination_condition == TerminationCondition.optimal):\n",
        "    print(\"Solution is feasible and optimal\")\n",
        "    print(\"Objective function value = \", model.objective())\n",
        "elif solution.solver.termination_condition == TerminationCondition.infeasible:\n",
        "    print (\"Failed to find solution.\")\n",
        "else:\n",
        "    # something else is wrong\n",
        "    print(str(solution.solver))\n",
        "assignments = model.x.get_values().items()\n",
        "EPS = 1.e-6\n",
        "for (customer,factory),x in sorted(assignments):\n",
        "    if x > EPS:\n",
        "        print(\"sending quantity %10s from factory %3s to customer %3s\" % (x, factory, customer))"
      ],
      "metadata": {
        "id": "BegM7YMnZhf1"
      },
      "execution_count": null,
      "outputs": []
    }
  ]
}