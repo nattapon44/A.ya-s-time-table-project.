{
  "nbformat": 4,
  "nbformat_minor": 0,
  "metadata": {
    "colab": {
      "provenance": [],
      "authorship_tag": "ABX9TyMRdonhUHj2hu+06CbtEcpq",
      "include_colab_link": true
    },
    "kernelspec": {
      "name": "python3",
      "display_name": "Python 3"
    },
    "language_info": {
      "name": "python"
    }
  },
  "cells": [
    {
      "cell_type": "markdown",
      "metadata": {
        "id": "view-in-github",
        "colab_type": "text"
      },
      "source": [
        "<a href=\"https://colab.research.google.com/github/nattapon44/time-table-project/blob/main/model5.ipynb\" target=\"_parent\"><img src=\"https://colab.research.google.com/assets/colab-badge.svg\" alt=\"Open In Colab\"/></a>"
      ]
    },
    {
      "cell_type": "code",
      "source": [
        "import numpy as np"
      ],
      "metadata": {
        "id": "s05hJp6Y_EoK"
      },
      "execution_count": 1,
      "outputs": []
    },
    {
      "cell_type": "markdown",
      "source": [
        "# **DATA**"
      ],
      "metadata": {
        "id": "cslzwhAjSvTK"
      }
    },
    {
      "cell_type": "markdown",
      "metadata": {
        "id": "JWZdlCpxsNlH"
      },
      "source": [
        "A set of time period T"
      ]
    },
    {
      "cell_type": "code",
      "source": [
        "Tmo =  { 1: {\"Day\": (1, \"Monday\"),\n",
        "\t\t      \"Hour\": (1, \"8 am\")},\n",
        "   \t  2: {\"Day\": (1, \"Monday\"),\n",
        "\t\t      \"Hour\": (2, \"8:30 am\")},\n",
        "\t    3: {\"Day\": (1, \"Monday\"),\n",
        "\t     \t  \"Hour\": (3, \"9 am\")},\n",
        "\t    4: {\"Day\": (1, \"Monday\"),\n",
        "\t\t      \"Hour\": (4, \"9:30 am\")},\n",
        "   \t  5: {\"Day\": (1, \"Monday\"),\n",
        "\t\t      \"Hour\": (5, \"10 am\")},\n",
        "\t    6: {\"Day\": (1, \"Monday\"),\n",
        "\t     \t  \"Hour\": (6, \"10:30 am\")},\n",
        "      7: {\"Day\": (1, \"Monday\"),\n",
        "\t     \t  \"Hour\": (7, \"11 am\")},\n",
        "      8: {\"Day\": (1, \"Monday\"),\n",
        "\t\t      \"Hour\": (8, \"11:30 am\")},\n",
        "   \t  9: {\"Day\": (1, \"Monday\"),\n",
        "\t\t      \"Hour\": (9, \"1 pm\")},\n",
        "\t    10: {\"Day\": (1, \"Monday\"),\n",
        "\t     \t  \"Hour\": (10, \"1:30 pm\")},\n",
        "\t    11: {\"Day\": (1, \"Monday\"),\n",
        "\t\t      \"Hour\": (11, \"2 pm\")},\n",
        "   \t  12: {\"Day\": (1, \"Monday\"),\n",
        "\t\t      \"Hour\": (12, \"2:30 pm\")},\n",
        "\t    13: {\"Day\": (1, \"Monday\"),\n",
        "\t     \t  \"Hour\": (13, \"3 pm\")},\n",
        "      14: {\"Day\": (1, \"Monday\"),\n",
        "\t     \t  \"Hour\": (14, \"3:30 pm\")},\n",
        "      15: {\"Day\": (1, \"Monday\"),\n",
        "\t\t      \"Hour\": (15, \"4 pm\")},\n",
        "   \t  16: {\"Day\": (1, \"Monday\"),\n",
        "\t\t      \"Hour\": (16, \"4:30 pm\")},\n",
        "\t    17: {\"Day\": (1, \"Monday\"),\n",
        "\t     \t  \"Hour\": (17, \"5 pm\")},\n",
        "\t    18: {\"Day\": (1, \"Monday\"),\n",
        "\t\t      \"Hour\": (18, \"5:30 pm\")}}"
      ],
      "metadata": {
        "id": "wYy9CpPnUJ84"
      },
      "execution_count": 2,
      "outputs": []
    },
    {
      "cell_type": "code",
      "source": [
        "Ttue = {19: {\"Day\": (2, \"Tuesday\"),\n",
        "\t\t      \"Hour\": (1, \"8 am\")},\n",
        "   \t  20: {\"Day\": (2, \"Tuesday\"),\n",
        "\t\t      \"Hour\": (2, \"8:30 am\")},\n",
        "\t    21: {\"Day\": (2, \"Tuesday\"),\n",
        "\t     \t  \"Hour\": (3, \"9 am\")},\n",
        "\t    22: {\"Day\": (2, \"Tuesday\"),\n",
        "\t\t      \"Hour\": (4, \"9:30 am\")},\n",
        "   \t  23: {\"Day\": (2, \"Tuesday\"),\n",
        "\t\t      \"Hour\": (5, \"10 am\")},\n",
        "\t    24: {\"Day\": (2, \"Tuesday\"),\n",
        "\t     \t  \"Hour\": (6, \"10:30 am\")},\n",
        "      25: {\"Day\": (2, \"Tuesday\"),\n",
        "\t     \t  \"Hour\": (7, \"11 am\")},\n",
        "      26: {\"Day\": (2, \"Tuesday\"),\n",
        "\t\t      \"Hour\": (8, \"11:30 am\")},\n",
        "   \t  27: {\"Day\": (2, \"Tuesday\"),\n",
        "\t\t      \"Hour\": (9, \"1 pm\")},\n",
        "\t    28: {\"Day\": (2, \"Tuesday\"),\n",
        "\t     \t  \"Hour\": (10, \"1:30 pm\")},\n",
        "\t    29: {\"Day\": (2, \"Tuesday\"),\n",
        "\t\t      \"Hour\": (11, \"2 pm\")},\n",
        "   \t  30: {\"Day\": (2, \"Tuesday\"),\n",
        "\t\t      \"Hour\": (12, \"2:30 pm\")},\n",
        "\t    31: {\"Day\": (2, \"Tuesday\"),\n",
        "\t     \t  \"Hour\": (13, \"3 pm\")},\n",
        "      32: {\"Day\": (2, \"Tuesday\"),\n",
        "\t     \t  \"Hour\": (14, \"3:30 pm\")},\n",
        "      33: {\"Day\": (2, \"Tuesday\"),\n",
        "\t\t      \"Hour\": (15, \"4 pm\")},\n",
        "   \t  34: {\"Day\": (2, \"Tuesday\"),\n",
        "\t\t      \"Hour\": (16, \"4:30 pm\")},\n",
        "\t    35: {\"Day\": (2, \"Tuesday\"),\n",
        "\t     \t  \"Hour\": (17, \"5 pm\")},\n",
        "\t    36: {\"Day\": (2, \"Tuesday\"),\n",
        "\t\t      \"Hour\": (18, \"5:30 pm\")}}"
      ],
      "metadata": {
        "id": "6t-9Qk9LUVi3"
      },
      "execution_count": 3,
      "outputs": []
    },
    {
      "cell_type": "code",
      "source": [
        "Twed = {37: {\"Day\": (3, \"Wednesday\"),\n",
        "\t\t      \"Hour\": (1, \"8 am\")},\n",
        "   \t  38: {\"Day\": (3, \"Wednesday\"),\n",
        "\t\t      \"Hour\": (2, \"8:30 am\")},\n",
        "\t    39: {\"Day\": (3, \"Wednesday\"),\n",
        "\t     \t  \"Hour\": (3, \"9 am\")},\n",
        "\t    40: {\"Day\": (3, \"Wednesday\"),\n",
        "\t\t      \"Hour\": (4, \"9:30 am\")},\n",
        "   \t  41: {\"Day\": (3, \"Wednesday\"),\n",
        "\t\t      \"Hour\": (5, \"10 am\")},\n",
        "\t    42: {\"Day\": (3, \"Wednesday\"),\n",
        "\t     \t  \"Hour\": (6, \"10:30 am\")},\n",
        "      43: {\"Day\": (3, \"Wednesday\"),\n",
        "\t     \t  \"Hour\": (7, \"11 am\")},\n",
        "      44: {\"Day\": (3, \"Wednesday\"),\n",
        "\t\t      \"Hour\": (8, \"11:30 am\")},\n",
        "   \t  45: {\"Day\": (3, \"Wednesday\"),\n",
        "\t\t      \"Hour\": (9, \"1 pm\")},\n",
        "\t    46: {\"Day\": (3, \"Wednesday\"),\n",
        "\t     \t  \"Hour\": (10, \"1:30 pm\")},\n",
        "\t    47: {\"Day\": (3, \"Wednesday\"),\n",
        "\t\t      \"Hour\": (11, \"2 pm\")},\n",
        "   \t  48: {\"Day\": (3, \"Wednesday\"),\n",
        "\t\t      \"Hour\": (12, \"2:30 pm\")},\n",
        "\t    49: {\"Day\": (3, \"Wednesday\"),\n",
        "\t     \t  \"Hour\": (13, \"3 pm\")},\n",
        "      50: {\"Day\": (3, \"Wednesday\"),\n",
        "\t     \t  \"Hour\": (14, \"3:30 pm\")},\n",
        "      51: {\"Day\": (3, \"Wednesday\"),\n",
        "\t\t      \"Hour\": (15, \"4 pm\")},\n",
        "   \t  52: {\"Day\": (3, \"Wednesday\"),\n",
        "\t\t      \"Hour\": (16, \"4:30 pm\")},\n",
        "\t    53: {\"Day\": (3, \"Wednesday\"),\n",
        "\t     \t  \"Hour\": (17, \"5 pm\")},\n",
        "\t    54: {\"Day\": (3, \"Wednesday\"),\n",
        "\t\t      \"Hour\": (18, \"5:30 pm\")}}"
      ],
      "metadata": {
        "id": "Sx-Mz26AUfAk"
      },
      "execution_count": 4,
      "outputs": []
    },
    {
      "cell_type": "code",
      "source": [
        "Tth = {55: {\"Day\": (4, \"Thursday\"),\n",
        "\t\t      \"Hour\": (1, \"8 am\")},\n",
        "   \t  56: {\"Day\": (4, \"Thursday\"),\n",
        "\t\t      \"Hour\": (2, \"8:30 am\")},\n",
        "\t    57: {\"Day\": (4, \"Thursday\"),\n",
        "\t     \t  \"Hour\": (3, \"9 am\")},\n",
        "\t    58: {\"Day\": (4, \"Thursday\"),\n",
        "\t\t      \"Hour\": (4, \"9:30 am\")},\n",
        "   \t  59: {\"Day\": (4, \"Thursday\"),\n",
        "\t\t      \"Hour\": (5, \"10 am\")},\n",
        "\t    60: {\"Day\": (4, \"Thursday\"),\n",
        "\t     \t  \"Hour\": (6, \"10:30 am\")},\n",
        "      61: {\"Day\": (4, \"Thursday\"),\n",
        "\t     \t  \"Hour\": (7, \"11 am\")},\n",
        "      62: {\"Day\": (4, \"Thursday\"),\n",
        "\t\t      \"Hour\": (8, \"11:30 am\")},\n",
        "   \t  63: {\"Day\": (4, \"Thursday\"),\n",
        "\t\t      \"Hour\": (9, \"1 pm\")},\n",
        "\t    64: {\"Day\": (4, \"Thursday\"),\n",
        "\t     \t  \"Hour\": (10, \"1:30 pm\")},\n",
        "\t    65: {\"Day\": (4, \"Thursday\"),\n",
        "\t\t      \"Hour\": (11, \"2 pm\")},\n",
        "   \t  66: {\"Day\": (4, \"Thursday\"),\n",
        "\t\t      \"Hour\": (12, \"2:30 pm\")},\n",
        "\t    67: {\"Day\": (4, \"Thursday\"),\n",
        "\t     \t  \"Hour\": (13, \"3 pm\")},\n",
        "      68: {\"Day\": (4, \"Thursday\"),\n",
        "\t     \t  \"Hour\": (14, \"3:30 pm\")},\n",
        "      69: {\"Day\": (4, \"Thursday\"),\n",
        "\t\t      \"Hour\": (15, \"4 pm\")},\n",
        "   \t  70: {\"Day\": (4, \"Thursday\"),\n",
        "\t\t      \"Hour\": (16, \"4:30 pm\")},\n",
        "\t    71: {\"Day\": (4, \"Thursday\"),\n",
        "\t     \t  \"Hour\": (17, \"5 pm\")},\n",
        "\t    72: {\"Day\": (4, \"Thursday\"),\n",
        "\t\t      \"Hour\": (18, \"5:30 pm\")}}"
      ],
      "metadata": {
        "id": "osaj1IJCUlMV"
      },
      "execution_count": 5,
      "outputs": []
    },
    {
      "cell_type": "code",
      "source": [
        "Tfri = {73: {\"Day\": (5, \"Friday\"),\n",
        "\t\t      \"Hour\": (1, \"8 am\")},\n",
        "   \t  74: {\"Day\": (5, \"Friday\"),\n",
        "\t\t      \"Hour\": (2, \"8:30 am\")},\n",
        "\t    75: {\"Day\": (5, \"Friday\"),\n",
        "\t     \t  \"Hour\": (3, \"9 am\")},\n",
        "\t    76: {\"Day\": (5, \"Friday\"),\n",
        "\t\t      \"Hour\": (4, \"9:30 am\")},\n",
        "   \t  77: {\"Day\": (5, \"Friday\"),\n",
        "\t\t      \"Hour\": (5, \"10 am\")},\n",
        "\t    78: {\"Day\": (5, \"Friday\"),\n",
        "\t     \t  \"Hour\": (6, \"10:30 am\")},\n",
        "      79: {\"Day\": (5, \"Friday\"),\n",
        "\t     \t  \"Hour\": (7, \"11 am\")},\n",
        "      80: {\"Day\": (5, \"Friday\"),\n",
        "\t\t      \"Hour\": (8, \"11:30 am\")},\n",
        "   \t  81: {\"Day\": (5, \"Friday\"),\n",
        "\t\t      \"Hour\": (9, \"1 pm\")},\n",
        "\t    82: {\"Day\": (5, \"Friday\"),\n",
        "\t     \t  \"Hour\": (10, \"1:30 pm\")},\n",
        "\t    83: {\"Day\": (5, \"Friday\"),\n",
        "\t\t      \"Hour\": (11, \"2 pm\")},\n",
        "   \t  84: {\"Day\": (5, \"Friday\"),\n",
        "\t\t      \"Hour\": (12, \"2:30 pm\")},\n",
        "\t    85: {\"Day\": (5, \"Friday\"),\n",
        "\t     \t  \"Hour\": (13, \"3 pm\")},\n",
        "      86: {\"Day\": (5, \"Friday\"),\n",
        "\t     \t  \"Hour\": (14, \"3:30 pm\")},\n",
        "      87: {\"Day\": (5, \"Friday\"),\n",
        "\t\t      \"Hour\": (15, \"4 pm\")},\n",
        "   \t  88: {\"Day\": (5, \"Friday\"),\n",
        "\t\t      \"Hour\": (16, \"4:30 pm\")},\n",
        "\t    89: {\"Day\": (5, \"Friday\"),\n",
        "\t     \t  \"Hour\": (17, \"5 pm\")},\n",
        "\t    90: {\"Day\": (5, \"Friday\"),\n",
        "\t\t      \"Hour\": (18, \"5:30 pm\")}}"
      ],
      "metadata": {
        "id": "n4VNCnpyUy3Q"
      },
      "execution_count": 6,
      "outputs": []
    },
    {
      "cell_type": "code",
      "execution_count": 7,
      "metadata": {
        "id": "ot89oqghSr8d"
      },
      "outputs": [],
      "source": [
        "T = { 1: {\"Day\": (1, \"Monday\"),\n",
        "\t\t      \"Hour\": (1, \"8 am\")},\n",
        "   \t  2: {\"Day\": (1, \"Monday\"),\n",
        "\t\t      \"Hour\": (2, \"8:30 am\")},\n",
        "\t    3: {\"Day\": (1, \"Monday\"),\n",
        "\t     \t  \"Hour\": (3, \"9 am\")},\n",
        "\t    4: {\"Day\": (1, \"Monday\"),\n",
        "\t\t      \"Hour\": (4, \"9:30 am\")},\n",
        "   \t  5: {\"Day\": (1, \"Monday\"),\n",
        "\t\t      \"Hour\": (5, \"10 am\")},\n",
        "\t    6: {\"Day\": (1, \"Monday\"),\n",
        "\t     \t  \"Hour\": (6, \"10:30 am\")},\n",
        "      7: {\"Day\": (1, \"Monday\"),\n",
        "\t     \t  \"Hour\": (7, \"11 am\")},\n",
        "      8: {\"Day\": (1, \"Monday\"),\n",
        "\t\t      \"Hour\": (8, \"11:30 am\")},\n",
        "   \t  9: {\"Day\": (1, \"Monday\"),\n",
        "\t\t      \"Hour\": (9, \"1 pm\")},\n",
        "\t    10: {\"Day\": (1, \"Monday\"),\n",
        "\t     \t  \"Hour\": (10, \"1:30 pm\")},\n",
        "\t    11: {\"Day\": (1, \"Monday\"),\n",
        "\t\t      \"Hour\": (11, \"2 pm\")},\n",
        "   \t  12: {\"Day\": (1, \"Monday\"),\n",
        "\t\t      \"Hour\": (12, \"2:30 pm\")},\n",
        "\t    13: {\"Day\": (1, \"Monday\"),\n",
        "\t     \t  \"Hour\": (13, \"3 pm\")},\n",
        "      14: {\"Day\": (1, \"Monday\"),\n",
        "\t     \t  \"Hour\": (14, \"3:30 pm\")},\n",
        "      15: {\"Day\": (1, \"Monday\"),\n",
        "\t\t      \"Hour\": (15, \"4 pm\")},\n",
        "   \t  16: {\"Day\": (1, \"Monday\"),\n",
        "\t\t      \"Hour\": (16, \"4:30 pm\")},\n",
        "\t    17: {\"Day\": (1, \"Monday\"),\n",
        "\t     \t  \"Hour\": (17, \"5 pm\")},\n",
        "\t    18: {\"Day\": (1, \"Monday\"),\n",
        "\t\t      \"Hour\": (18, \"5:30 pm\")},\n",
        "      19: {\"Day\": (2, \"Tuesday\"),\n",
        "\t\t      \"Hour\": (1, \"8 am\")},\n",
        "   \t  20: {\"Day\": (2, \"Tuesday\"),\n",
        "\t\t      \"Hour\": (2, \"8:30 am\")},\n",
        "\t    21: {\"Day\": (2, \"Tuesday\"),\n",
        "\t     \t  \"Hour\": (3, \"9 am\")},\n",
        "\t    22: {\"Day\": (2, \"Tuesday\"),\n",
        "\t\t      \"Hour\": (4, \"9:30 am\")},\n",
        "   \t  23: {\"Day\": (2, \"Tuesday\"),\n",
        "\t\t      \"Hour\": (5, \"10 am\")},\n",
        "\t    24: {\"Day\": (2, \"Tuesday\"),\n",
        "\t     \t  \"Hour\": (6, \"10:30 am\")},\n",
        "      25: {\"Day\": (2, \"Tuesday\"),\n",
        "\t     \t  \"Hour\": (7, \"11 am\")},\n",
        "      26: {\"Day\": (2, \"Tuesday\"),\n",
        "\t\t      \"Hour\": (8, \"11:30 am\")},\n",
        "   \t  27: {\"Day\": (2, \"Tuesday\"),\n",
        "\t\t      \"Hour\": (9, \"1 pm\")},\n",
        "\t    28: {\"Day\": (2, \"Tuesday\"),\n",
        "\t     \t  \"Hour\": (10, \"1:30 pm\")},\n",
        "\t    29: {\"Day\": (2, \"Tuesday\"),\n",
        "\t\t      \"Hour\": (11, \"2 pm\")},\n",
        "   \t  30: {\"Day\": (2, \"Tuesday\"),\n",
        "\t\t      \"Hour\": (12, \"2:30 pm\")},\n",
        "\t    31: {\"Day\": (2, \"Tuesday\"),\n",
        "\t     \t  \"Hour\": (13, \"3 pm\")},\n",
        "      32: {\"Day\": (2, \"Tuesday\"),\n",
        "\t     \t  \"Hour\": (14, \"3:30 pm\")},\n",
        "      33: {\"Day\": (2, \"Tuesday\"),\n",
        "\t\t      \"Hour\": (15, \"4 pm\")},\n",
        "   \t  34: {\"Day\": (2, \"Tuesday\"),\n",
        "\t\t      \"Hour\": (16, \"4:30 pm\")},\n",
        "\t    35: {\"Day\": (2, \"Tuesday\"),\n",
        "\t     \t  \"Hour\": (17, \"5 pm\")},\n",
        "\t    36: {\"Day\": (2, \"Tuesday\"),\n",
        "\t\t      \"Hour\": (18, \"5:30 pm\")},\n",
        "      37: {\"Day\": (3, \"Wednesday\"),\n",
        "\t\t      \"Hour\": (1, \"8 am\")},\n",
        "   \t  38: {\"Day\": (3, \"Wednesday\"),\n",
        "\t\t      \"Hour\": (2, \"8:30 am\")},\n",
        "\t    39: {\"Day\": (3, \"Wednesday\"),\n",
        "\t     \t  \"Hour\": (3, \"9 am\")},\n",
        "\t    40: {\"Day\": (3, \"Wednesday\"),\n",
        "\t\t      \"Hour\": (4, \"9:30 am\")},\n",
        "   \t  41: {\"Day\": (3, \"Wednesday\"),\n",
        "\t\t      \"Hour\": (5, \"10 am\")},\n",
        "\t    42: {\"Day\": (3, \"Wednesday\"),\n",
        "\t     \t  \"Hour\": (6, \"10:30 am\")},\n",
        "      43: {\"Day\": (3, \"Wednesday\"),\n",
        "\t     \t  \"Hour\": (7, \"11 am\")},\n",
        "      44: {\"Day\": (3, \"Wednesday\"),\n",
        "\t\t      \"Hour\": (8, \"11:30 am\")},\n",
        "   \t  45: {\"Day\": (3, \"Wednesday\"),\n",
        "\t\t      \"Hour\": (9, \"1 pm\")},\n",
        "\t    46: {\"Day\": (3, \"Wednesday\"),\n",
        "\t     \t  \"Hour\": (10, \"1:30 pm\")},\n",
        "\t    47: {\"Day\": (3, \"Wednesday\"),\n",
        "\t\t      \"Hour\": (11, \"2 pm\")},\n",
        "   \t  48: {\"Day\": (3, \"Wednesday\"),\n",
        "\t\t      \"Hour\": (12, \"2:30 pm\")},\n",
        "\t    49: {\"Day\": (3, \"Wednesday\"),\n",
        "\t     \t  \"Hour\": (13, \"3 pm\")},\n",
        "      50: {\"Day\": (3, \"Wednesday\"),\n",
        "\t     \t  \"Hour\": (14, \"3:30 pm\")},\n",
        "      51: {\"Day\": (3, \"Wednesday\"),\n",
        "\t\t      \"Hour\": (15, \"4 pm\")},\n",
        "   \t  52: {\"Day\": (3, \"Wednesday\"),\n",
        "\t\t      \"Hour\": (16, \"4:30 pm\")},\n",
        "\t    53: {\"Day\": (3, \"Wednesday\"),\n",
        "\t     \t  \"Hour\": (17, \"5 pm\")},\n",
        "\t    54: {\"Day\": (3, \"Wednesday\"),\n",
        "\t\t      \"Hour\": (18, \"5:30 pm\")},\n",
        "      55: {\"Day\": (4, \"Thursday\"),\n",
        "\t\t      \"Hour\": (1, \"8 am\")},\n",
        "   \t  56: {\"Day\": (4, \"Thursday\"),\n",
        "\t\t      \"Hour\": (2, \"8:30 am\")},\n",
        "\t    57: {\"Day\": (4, \"Thursday\"),\n",
        "\t     \t  \"Hour\": (3, \"9 am\")},\n",
        "\t    58: {\"Day\": (4, \"Thursday\"),\n",
        "\t\t      \"Hour\": (4, \"9:30 am\")},\n",
        "   \t  59: {\"Day\": (4, \"Thursday\"),\n",
        "\t\t      \"Hour\": (5, \"10 am\")},\n",
        "\t    60: {\"Day\": (4, \"Thursday\"),\n",
        "\t     \t  \"Hour\": (6, \"10:30 am\")},\n",
        "      61: {\"Day\": (4, \"Thursday\"),\n",
        "\t     \t  \"Hour\": (7, \"11 am\")},\n",
        "      62: {\"Day\": (4, \"Thursday\"),\n",
        "\t\t      \"Hour\": (8, \"11:30 am\")},\n",
        "   \t  63: {\"Day\": (4, \"Thursday\"),\n",
        "\t\t      \"Hour\": (9, \"1 pm\")},\n",
        "\t    64: {\"Day\": (4, \"Thursday\"),\n",
        "\t     \t  \"Hour\": (10, \"1:30 pm\")},\n",
        "\t    65: {\"Day\": (4, \"Thursday\"),\n",
        "\t\t      \"Hour\": (11, \"2 pm\")},\n",
        "   \t  66: {\"Day\": (4, \"Thursday\"),\n",
        "\t\t      \"Hour\": (12, \"2:30 pm\")},\n",
        "\t    67: {\"Day\": (4, \"Thursday\"),\n",
        "\t     \t  \"Hour\": (13, \"3 pm\")},\n",
        "      68: {\"Day\": (4, \"Thursday\"),\n",
        "\t     \t  \"Hour\": (14, \"3:30 pm\")},\n",
        "      69: {\"Day\": (4, \"Thursday\"),\n",
        "\t\t      \"Hour\": (15, \"4 pm\")},\n",
        "   \t  70: {\"Day\": (4, \"Thursday\"),\n",
        "\t\t      \"Hour\": (16, \"4:30 pm\")},\n",
        "\t    71: {\"Day\": (4, \"Thursday\"),\n",
        "\t     \t  \"Hour\": (17, \"5 pm\")},\n",
        "\t    72: {\"Day\": (4, \"Thursday\"),\n",
        "\t\t      \"Hour\": (18, \"5:30 pm\")},\n",
        "      73: {\"Day\": (5, \"Friday\"),\n",
        "\t\t      \"Hour\": (1, \"8 am\")},\n",
        "   \t  74: {\"Day\": (5, \"Friday\"),\n",
        "\t\t      \"Hour\": (2, \"8:30 am\")},\n",
        "\t    75: {\"Day\": (5, \"Friday\"),\n",
        "\t     \t  \"Hour\": (3, \"9 am\")},\n",
        "\t    76: {\"Day\": (5, \"Friday\"),\n",
        "\t\t      \"Hour\": (4, \"9:30 am\")},\n",
        "   \t  77: {\"Day\": (5, \"Friday\"),\n",
        "\t\t      \"Hour\": (5, \"10 am\")},\n",
        "\t    78: {\"Day\": (5, \"Friday\"),\n",
        "\t     \t  \"Hour\": (6, \"10:30 am\")},\n",
        "      79: {\"Day\": (5, \"Friday\"),\n",
        "\t     \t  \"Hour\": (7, \"11 am\")},\n",
        "      80: {\"Day\": (5, \"Friday\"),\n",
        "\t\t      \"Hour\": (8, \"11:30 am\")},\n",
        "   \t  81: {\"Day\": (5, \"Friday\"),\n",
        "\t\t      \"Hour\": (9, \"1 pm\")},\n",
        "\t    82: {\"Day\": (5, \"Friday\"),\n",
        "\t     \t  \"Hour\": (10, \"1:30 pm\")},\n",
        "\t    83: {\"Day\": (5, \"Friday\"),\n",
        "\t\t      \"Hour\": (11, \"2 pm\")},\n",
        "   \t  84: {\"Day\": (5, \"Friday\"),\n",
        "\t\t      \"Hour\": (12, \"2:30 pm\")},\n",
        "\t    85: {\"Day\": (5, \"Friday\"),\n",
        "\t     \t  \"Hour\": (13, \"3 pm\")},\n",
        "      86: {\"Day\": (5, \"Friday\"),\n",
        "\t     \t  \"Hour\": (14, \"3:30 pm\")},\n",
        "      87: {\"Day\": (5, \"Friday\"),\n",
        "\t\t      \"Hour\": (15, \"4 pm\")},\n",
        "   \t  88: {\"Day\": (5, \"Friday\"),\n",
        "\t\t      \"Hour\": (16, \"4:30 pm\")},\n",
        "\t    89: {\"Day\": (5, \"Friday\"),\n",
        "\t     \t  \"Hour\": (17, \"5 pm\")},\n",
        "\t    90: {\"Day\": (5, \"Friday\"),\n",
        "\t\t      \"Hour\": (18, \"5:30 pm\")}}"
      ]
    },
    {
      "cell_type": "code",
      "source": [
        "TD =  {1: {\"Monday\"},\n",
        "\t     2: {\"Tuesday\"},\n",
        "\t\t   3: {\"Wednesday\"},\n",
        "\t\t   4: {\"Thursday\"},\n",
        "\t\t   5: {\"Friday\"}\n",
        "      }"
      ],
      "metadata": {
        "id": "QBw6SE-f5z6w"
      },
      "execution_count": 21,
      "outputs": []
    },
    {
      "cell_type": "markdown",
      "source": [
        "A set of Room R"
      ],
      "metadata": {
        "id": "_dAnE7mJTGje"
      }
    },
    {
      "cell_type": "code",
      "source": [
        "R = {1: {\"Name\":'SC6409',\n",
        "\t\t \t\t \"Capacity\": 40,\n",
        "\t\t     \"Type\": \"lecture\"},\n",
        "\t   2: {\"Name\":'SC6410',\n",
        "\t\t     \"Capacity\": 8,\n",
        "\t\t     \"Type\": \"lecture\",},\n",
        "\t\t 3: {\"Name\":'mirrorRoom',\n",
        "\t\t     \"Capacity\": 8,\n",
        "\t\t     \"Type\": \"lecture\",},\n",
        "\t\t 4: {\"Name\":'labRoom',\n",
        "\t\t     \"Capacity\": 40,\n",
        "\t\t    \"Type\": \"lab\",},\n",
        "\t\t 5: {\"Name\":'SC6501',\n",
        "\t\t    \"Capacity\": 119,\n",
        "\t\t    \"Type\": \"lecture\",},\n",
        "\t\t 6: {\"Name\":'SC6502',\n",
        "\t\t    \"Capacity\": 104,\n",
        "\t\t    \"Type\": \"lecture\",}\n",
        "\t\t}"
      ],
      "metadata": {
        "id": "8RfVdEDWTGFj"
      },
      "execution_count": 17,
      "outputs": []
    },
    {
      "cell_type": "markdown",
      "source": [
        "A set of courses C"
      ],
      "metadata": {
        "id": "aydVka0vTL8j"
      }
    },
    {
      "cell_type": "code",
      "source": [
        "C = {1: {\"courseName\": 'SC653205',\n",
        "         \"teachers\": {1:'A'},\n",
        "         \"courseCapacity\": 40,\n",
        "         \"hoursPerWeek\": [2,2],\n",
        "         \"type\": [\"lecture\", \"lecture\"]},\n",
        "     2: {\"courseName\": 'SC653206',\n",
        "         \"teachers\": {2:'B'},\n",
        "         \"courseCapacity\": 80,\n",
        "         \"hoursPerWeek\": [2,2],\n",
        "         \"type\": [\"lecture\", \"lecture\"]},\n",
        "     3: {\"courseName\": 'SC653301',\n",
        "         \"teachers\": {2:'B'},\n",
        "         \"courseCapacity\": 40,\n",
        "         \"hoursPerWeek\": [1,2],\n",
        "         \"type\": [\"lecture\", \"lecture\"]},\n",
        "     4: {\"courseName\": 'SC663405',\n",
        "         \"teachers\": {3:'C'},\n",
        "         \"courseCapacity\": 40,\n",
        "         \"hoursPerWeek\": [1,2],\n",
        "         \"type\": [\"lab\", \"lab\"]},\n",
        "     5: {\"courseName\": 'SC653402',\n",
        "         \"teachers\": {1:'A', 3:'C'},\n",
        "         \"courseCapacity\": 40,\n",
        "         \"hoursPerWeek\": [2,2],\n",
        "         \"type\": [\"lab\", \"lab\"]},\n",
        "     }"
      ],
      "metadata": {
        "id": "YcgbEpsJTLUN"
      },
      "execution_count": 9,
      "outputs": []
    },
    {
      "cell_type": "markdown",
      "source": [
        "A set of professor P"
      ],
      "metadata": {
        "id": "Sdn-rvlOTun7"
      }
    },
    {
      "cell_type": "code",
      "source": [
        "P = {1: {'Name':'A',\n",
        "         'course': {1:'SC653205', 5:'SC653402'},\n",
        "         'weight':[0, 0, 1, 1, 1, 1, 1, 1, 1, 1, 1, 1, 0.5, 0.5, 0.5, 0, 0 ,0,\n",
        "                   0, 0, 1, 1, 1, 1, 1, 1, 1, 1, 1, 1, 0.5, 0.5, 0, 0.5, 0.5 ,0.5,\n",
        "                   0, 0, 0, 1, 0, 1, 1, 1, 0, 1, 1, 1, 0.5, 0.5, 0.5, 0, 0.5 ,0.5,\n",
        "                   0, 0, 1, 1, 1, 1, 1, 0, 1, 1, 1, 0, 0.5, 1, 1, 0.5, 0.5 ,0.5,\n",
        "                   0, 0, 1, 1, 1, 1, 1, 1, 1, 1, 1, 1, 0.5, 0.5, 0.5, 0.5, 0.5,0.5]},\n",
        "\t   2: {'Name':'B',\n",
        "         'course': {2:'SC653206', 3:'SC653301'},\n",
        "         'weight':[0, 0, 0, 0, 1, 1, 1, 1, 1, 1, 0.5, 0.5, 0.5, 1, 0.5, 0.5, 0.5 ,0.5,\n",
        "                   0, 0, 0, 0, 1, 1, 0, 0.5, 1, 1, 1, 1, 0.5, 0.5, 0.5, 0.5, 0.5 ,0.5,\n",
        "                   0, 0, 1, 0.5, 1, 0.5, 0.5, 1, 1, 1, 1, 1, 0.5, 1, 1, 1, 0.5 ,0.5,\n",
        "                   0, 0, 1, 1, 1, 1, 1, 1, 1, 1, 1, 1, 0.5, 0, 0, 1, 1 , 1,\n",
        "                   0, 0, 1, 1, 1, 1, 1, 1, 1, 0.5, 0.5, 0.5, 0.5, 0.5, 1, 1, 0 ,0]},\n",
        "     3: {'Name':'C',\n",
        "         'course': {4:'SC663405', 5:'SC653402'},\n",
        "         'weight':[0.5, 0.5, 0.5, 1, 1, 1, 0, 0, 0, 1, 1, 1, 1, 0.5, 0, 1, 1 ,0.5,\n",
        "                   0, 0, 1, 1, 1, 1, 1, 0.5, 0.5, 1, 1, 1, 0.5, 0.5, 0.5, 0, 0 ,0,\n",
        "                   0, 0, 1, 1, 1, 0.5, 1, 1, 0.5, 0.5, 0.5, 1, 0.5, 1, 1, 0.5, 0.5 ,0.5,\n",
        "                   0, 0, 1, 1, 1, 1, 1, 1, 1, 1, 1, 1, 0.5, 0.5, 0.5, 0.5, 0.5 ,0.5,\n",
        "                   0, 0, 0.5, 0.5, 0.5, 1, 1, 1, 1, 1, 1, 1, 0.5, 0.5, 0, 0, 0 ,0]}}"
      ],
      "metadata": {
        "id": "-z-yPjF-Tway"
      },
      "execution_count": 10,
      "outputs": []
    },
    {
      "cell_type": "markdown",
      "source": [
        "A set of students S"
      ],
      "metadata": {
        "id": "zmawN3QvTxX5"
      }
    },
    {
      "cell_type": "code",
      "source": [
        "S = { 1: {'Major': 'STAT',\n",
        "          'Year': 3,\n",
        "          'courseRegister':  {1:\"SC653205\", 2:\"SC653206\", 3:\"SC653301\", 4:\"SC663405\", 5:\"SC653402\"},\n",
        "          'Availability': np.array([[0, 0, 1, 1, 1, 1, 1, 1, 1, 1, 1, 1, 1, 1, 1, 1, 0, 0],\n",
        "                                    [0, 0, 1, 1, 1, 1, 1, 1, 1, 1, 1, 1, 1, 1, 1, 1, 0, 0],\n",
        "                                    [0, 0, 1, 1, 1, 1, 1, 1, 1, 1, 1, 1, 1, 1, 1, 1, 0, 0],\n",
        "                                    [0, 0, 1, 1, 1, 1, 1, 1, 1, 1, 1, 1, 1, 1, 1, 1, 0, 0],\n",
        "                                    [0, 0, 1, 1, 1, 1, 1, 1, 1, 1, 1, 1, 1, 1, 1, 1, 0, 0]])},\n",
        "      2: {'Major': 'STAT',\n",
        "          'Year': 3,\n",
        "          'courseRegister':  {1:\"SC653205\", 2:\"SC653206\", 3:\"SC653301\", 4:\"SC663405\", 5:\"SC653402\"},\n",
        "          'Availability': np.array([[0, 0, 1, 1, 1, 1, 1, 1, 1, 1, 1, 1, 1, 1, 1, 1, 0, 0],\n",
        "                                    [0, 0, 1, 1, 1, 1, 1, 1, 1, 1, 1, 1, 1, 1, 1, 1, 0, 0],\n",
        "                                    [0, 0, 1, 1, 1, 1, 1, 1, 1, 1, 1, 1, 1, 1, 1, 1, 0, 0],\n",
        "                                    [0, 0, 1, 1, 1, 1, 1, 1, 1, 1, 1, 1, 1, 1, 1, 1, 0, 0],\n",
        "                                    [0, 0, 1, 1, 1, 1, 1, 1, 1, 1, 1, 1, 1, 1, 1, 1, 0, 0]])},\n",
        "      3: {'Major': 'STAT',\n",
        "          'Year': 3,\n",
        "          'courseRegister':  {1:\"SC653205\", 2:\"SC653206\", 3:\"SC653301\", 4:\"SC663405\", 5:\"SC653402\"},\n",
        "          'Availability': np.array([[0, 0, 1, 1, 1, 1, 1, 1, 1, 1, 1, 1, 1, 1, 1, 1, 0, 0],\n",
        "                                    [0, 0, 1, 1, 1, 1, 1, 1, 1, 1, 1, 1, 1, 1, 1, 1, 0, 0],\n",
        "                                    [0, 0, 1, 1, 1, 1, 1, 1, 1, 1, 1, 1, 1, 1, 1, 1, 0, 0],\n",
        "                                    [0, 0, 1, 1, 1, 1, 1, 1, 1, 1, 1, 1, 1, 1, 1, 1, 0, 0],\n",
        "                                    [0, 0, 1, 1, 1, 1, 1, 1, 1, 1, 1, 1, 1, 1, 1, 1, 0, 0]])},\n",
        "      4: {'Major': 'STAT',\n",
        "          'Year': 3,\n",
        "          'courseRegister':  {1:\"SC653205\", 2:\"SC653206\", 3:\"SC653301\", 4:\"SC663405\", 5:\"SC653402\"},\n",
        "          'Availability': np.array([[0, 0, 1, 1, 1, 1, 1, 1, 1, 1, 1, 1, 1, 1, 1, 1, 0, 0],\n",
        "                                    [0, 0, 1, 1, 1, 1, 1, 1, 1, 1, 1, 1, 1, 1, 1, 1, 0, 0],\n",
        "                                    [0, 0, 1, 1, 1, 1, 1, 1, 1, 1, 1, 1, 1, 1, 1, 1, 0, 0],\n",
        "                                    [0, 0, 1, 1, 1, 1, 1, 1, 1, 1, 1, 1, 1, 1, 1, 1, 0, 0],\n",
        "                                    [0, 0, 1, 1, 1, 1, 1, 1, 1, 1, 1, 1, 1, 1, 1, 1, 0, 0]])},\n",
        "      5: {'Major': 'STAT',\n",
        "          'Year': 3,\n",
        "          'courseRegister':  {1:\"SC653205\", 2:\"SC653206\", 3:\"SC653301\", 4:\"SC663405\", 5:\"SC653402\"},\n",
        "          'Availability': np.array([[0, 0, 1, 1, 1, 1, 1, 1, 1, 1, 1, 1, 1, 1, 1, 1, 0, 0],\n",
        "                                    [0, 0, 1, 1, 1, 1, 1, 1, 1, 1, 1, 1, 1, 1, 1, 1, 0, 0],\n",
        "                                    [0, 0, 1, 1, 1, 1, 1, 1, 1, 1, 1, 1, 1, 1, 1, 1, 0, 0],\n",
        "                                    [0, 0, 1, 1, 1, 1, 1, 1, 1, 1, 1, 1, 1, 1, 1, 1, 0, 0],\n",
        "                                    [0, 0, 1, 1, 1, 1, 1, 1, 1, 1, 1, 1, 1, 1, 1, 1, 0, 0]])},\n",
        "      6: {'Major': 'SIDS',\n",
        "          'Year': 3,\n",
        "          'courseRegister':  {1:\"SC653205\", 2:\"SC653206\", 3:\"SC653301\", 4:\"SC663405\", 5:\"SC653402\"},\n",
        "          'Availability': np.array([[0, 0, 1, 1, 1, 1, 1, 1, 1, 1, 1, 1, 1, 1, 1, 1, 0, 0],\n",
        "                                    [0, 0, 1, 1, 1, 1, 1, 1, 1, 1, 1, 1, 1, 1, 1, 1, 0, 0],\n",
        "                                    [0, 0, 1, 1, 1, 1, 1, 1, 1, 1, 1, 1, 1, 1, 1, 1, 0, 0],\n",
        "                                    [0, 0, 1, 1, 1, 1, 1, 1, 1, 1, 1, 1, 1, 1, 1, 1, 0, 0],\n",
        "                                    [0, 0, 1, 1, 1, 1, 1, 1, 1, 1, 1, 1, 1, 1, 1, 1, 0, 0]])},\n",
        "      7: {'Major': 'SIDS',\n",
        "          'Year': 3,\n",
        "          'courseRegister':  {1:\"SC653205\", 2:\"SC653206\", 3:\"SC653301\", 4:\"SC663405\", 5:\"SC653402\"},\n",
        "          'Availability': np.array([[0, 0, 1, 1, 1, 1, 1, 1, 1, 1, 1, 1, 1, 1, 1, 1, 0, 0],\n",
        "                                    [0, 0, 1, 1, 1, 1, 1, 1, 1, 1, 1, 1, 1, 1, 1, 1, 0, 0],\n",
        "                                    [0, 0, 1, 1, 1, 1, 1, 1, 1, 1, 1, 1, 1, 1, 1, 1, 0, 0],\n",
        "                                    [0, 0, 1, 1, 1, 1, 1, 1, 1, 1, 1, 1, 1, 1, 1, 1, 0, 0],\n",
        "                                    [0, 0, 1, 1, 1, 1, 1, 1, 1, 1, 1, 1, 1, 1, 1, 1, 0, 0]])},\n",
        "      8: {'Major': 'SIDS',\n",
        "          'Year': 3,\n",
        "          'courseRegister':  {1:\"SC653205\", 2:\"SC653206\", 3:\"SC653301\", 4:\"SC663405\", 5:\"SC653402\"},\n",
        "          'Availability': np.array([[0, 0, 1, 1, 1, 1, 1, 1, 1, 1, 1, 1, 1, 1, 1, 1, 0, 0],\n",
        "                                    [0, 0, 1, 1, 1, 1, 1, 1, 1, 1, 1, 1, 1, 1, 1, 1, 0, 0],\n",
        "                                    [0, 0, 1, 1, 1, 1, 1, 1, 1, 1, 1, 1, 1, 1, 1, 1, 0, 0],\n",
        "                                    [0, 0, 1, 1, 1, 1, 1, 1, 1, 1, 1, 1, 1, 1, 1, 1, 0, 0],\n",
        "                                    [0, 0, 1, 1, 1, 1, 1, 1, 1, 1, 1, 1, 1, 1, 1, 1, 0, 0]])},\n",
        "      9: {'Major': 'SIDS',\n",
        "          'Year': 3,\n",
        "          'courseRegister':  {1:\"SC653205\", 2:\"SC653206\", 3:\"SC653301\", 4:\"SC663405\", 5:\"SC653402\"},\n",
        "          'Availability': np.array([[0, 0, 1, 1, 1, 1, 1, 1, 1, 1, 1, 1, 1, 1, 1, 1, 0, 0],\n",
        "                                    [0, 0, 1, 1, 1, 1, 1, 1, 1, 1, 1, 1, 1, 1, 1, 1, 0, 0],\n",
        "                                    [0, 0, 1, 1, 1, 1, 1, 1, 1, 1, 1, 1, 1, 1, 1, 1, 0, 0],\n",
        "                                    [0, 0, 1, 1, 1, 1, 1, 1, 1, 1, 1, 1, 1, 1, 1, 1, 0, 0],\n",
        "                                    [0, 0, 1, 1, 1, 1, 1, 1, 1, 1, 1, 1, 1, 1, 1, 1, 0, 0]])},\n",
        "      10: {'Major': 'SIDS',\n",
        "          'Year': 3,\n",
        "          'courseRegister':  {1:\"SC653205\", 2:\"SC653206\", 3:\"SC653301\", 4:\"SC663405\", 5:\"SC653402\"},\n",
        "           'Availability': np.array([[0, 0, 1, 1, 1, 1, 1, 1, 1, 1, 1, 1, 1, 1, 1, 1, 0, 0],\n",
        "                                    [0, 0, 1, 1, 1, 1, 1, 1, 1, 1, 1, 1, 1, 1, 1, 1, 0, 0],\n",
        "                                    [0, 0, 1, 1, 1, 1, 1, 1, 1, 1, 1, 1, 1, 1, 1, 1, 0, 0],\n",
        "                                    [0, 0, 1, 1, 1, 1, 1, 1, 1, 1, 1, 1, 1, 1, 1, 1, 0, 0],\n",
        "                                    [0, 0, 1, 1, 1, 1, 1, 1, 1, 1, 1, 1, 1, 1, 1, 1, 0, 0]])}\n",
        "          }"
      ],
      "metadata": {
        "id": "XLQkoKhaT0Ed"
      },
      "execution_count": 11,
      "outputs": []
    },
    {
      "cell_type": "code",
      "source": [
        " # input crt\n",
        " # output weight u_crt\n",
        " # course c\n",
        " # หา p ที่สอน c\n",
        " # หา index ของ p\n",
        "[key for key in P.keys() if P[key]['Name'] == 'A'][0]\n"
      ],
      "metadata": {
        "colab": {
          "base_uri": "https://localhost:8080/"
        },
        "id": "FK6tfbNUVR8M",
        "outputId": "03b668d3-d1a2-449e-eb27-54eb7d171511"
      },
      "execution_count": 12,
      "outputs": [
        {
          "output_type": "execute_result",
          "data": {
            "text/plain": [
              "1"
            ]
          },
          "metadata": {},
          "execution_count": 12
        }
      ]
    },
    {
      "cell_type": "code",
      "source": [
        "# ใช้ใน for loop\n",
        "# for teachers in (C[c]['teachers'] for c in C):\n",
        "#    print(teachers)\n",
        "\n",
        "# แปลงเป็น list\n",
        "pc = list(C[c]['teachers'] for c in C)\n",
        "print(pc)\n"
      ],
      "metadata": {
        "colab": {
          "base_uri": "https://localhost:8080/"
        },
        "id": "hD6YBKEu-oJ4",
        "outputId": "fac1400e-d3f7-4c92-f9ed-7c009aec48d8"
      },
      "execution_count": null,
      "outputs": [
        {
          "output_type": "stream",
          "name": "stdout",
          "text": [
            "[{1: 'A'}, {2: 'B'}, {2: 'B'}, {3: 'C'}, {1: 'A', 3: 'C'}]\n"
          ]
        }
      ]
    },
    {
      "cell_type": "code",
      "source": [
        "for key in C.keys():\n",
        "    Pp = C[key]['teachers']\n",
        "numteacher = len(Pp)\n",
        "print(numteacher)"
      ],
      "metadata": {
        "colab": {
          "base_uri": "https://localhost:8080/"
        },
        "id": "sXzLsyexj-RY",
        "outputId": "81500dff-377d-4e6b-fd51-ac44fa93aff5"
      },
      "execution_count": null,
      "outputs": [
        {
          "output_type": "stream",
          "name": "stdout",
          "text": [
            "2\n"
          ]
        }
      ]
    },
    {
      "cell_type": "code",
      "source": [
        "if numteacher == 1:\n",
        "    weight = list(P[key][\"weight\"][0])\n",
        "    print(weight)\n",
        "elif numteacher == 2:\n",
        "    weight_p1 = P[1]['weight']\n",
        "    weight_p2 = P[2]['weight']\n",
        "    weight_p3 = P[3]['weight']\n",
        "    minimum_weight = np.minimum(weight_p1, np.minimum(weight_p2, weight_p3))\n",
        "    print(minimum_weight)\n"
      ],
      "metadata": {
        "colab": {
          "base_uri": "https://localhost:8080/"
        },
        "id": "K2P4He96BAOB",
        "outputId": "8619d7b6-63f4-4621-ce00-e9c0679fffc0"
      },
      "execution_count": 78,
      "outputs": [
        {
          "output_type": "stream",
          "name": "stdout",
          "text": [
            "[0.  0.  0.  0.  1.  1.  0.  0.  0.  1.  0.5 0.5 0.5 0.5 0.  0.  0.  0.\n",
            " 0.  0.  0.  0.  1.  1.  0.  0.5 0.5 1.  1.  1.  0.5 0.5 0.  0.  0.  0.\n",
            " 0.  0.  0.  0.5 0.  0.5 0.5 1.  0.  0.5 0.5 1.  0.5 0.5 0.5 0.  0.5 0.5\n",
            " 0.  0.  1.  1.  1.  1.  1.  0.  1.  1.  1.  0.  0.5 0.  0.  0.5 0.5 0.5\n",
            " 0.  0.  0.5 0.5 0.5 1.  1.  1.  1.  0.5 0.5 0.5 0.5 0.5 0.  0.  0.  0. ]\n"
          ]
        }
      ]
    },
    {
      "cell_type": "code",
      "source": [
        "# หา type ของ R\n",
        "# Type r\n",
        "R[key]['Type']"
      ],
      "metadata": {
        "id": "MQ5rlX-Mlchb",
        "colab": {
          "base_uri": "https://localhost:8080/",
          "height": 36
        },
        "outputId": "e3a633a4-2ecc-4da9-df35-254fa68b748d"
      },
      "execution_count": null,
      "outputs": [
        {
          "output_type": "execute_result",
          "data": {
            "text/plain": [
              "'lecture'"
            ],
            "application/vnd.google.colaboratory.intrinsic+json": {
              "type": "string"
            }
          },
          "metadata": {},
          "execution_count": 20
        }
      ]
    },
    {
      "cell_type": "code",
      "source": [
        "# หา type ของ C\n",
        "# Type c\n",
        "C[key]['type']"
      ],
      "metadata": {
        "colab": {
          "base_uri": "https://localhost:8080/"
        },
        "id": "cS_TFDHlGKWm",
        "outputId": "a7fffe2a-1b9a-49c3-c968-5cf04ba21190"
      },
      "execution_count": null,
      "outputs": [
        {
          "output_type": "execute_result",
          "data": {
            "text/plain": [
              "['lab', 'lab']"
            ]
          },
          "metadata": {},
          "execution_count": 21
        }
      ]
    },
    {
      "cell_type": "code",
      "source": [
        "for key in R.keys():\n",
        "  for key in C.keys():\n",
        "    type_r = R[key]['Type']\n",
        "    type_c = C[key]['type']\n",
        "print(type_r)\n",
        "print(type_c)"
      ],
      "metadata": {
        "colab": {
          "base_uri": "https://localhost:8080/"
        },
        "id": "0O70gOQnk6zf",
        "outputId": "78f8305f-9213-4432-a8c2-56a6ff9afcbe"
      },
      "execution_count": null,
      "outputs": [
        {
          "output_type": "stream",
          "name": "stdout",
          "text": [
            "lecture\n",
            "['lab', 'lab']\n"
          ]
        }
      ]
    },
    {
      "cell_type": "code",
      "source": [
        "for key in R.keys():\n",
        "  for key in C.keys():\n",
        "    for key in P.keys():\n",
        "     type_r = R[key]['Type']\n",
        "     type_c = C[key]['type']\n",
        "     if 'lab' in type_c:\n",
        "         if 'lab' in type_r:\n",
        "             weight = list(P[key][\"weight\"][0])\n",
        "             print(\"Weight for lab:\", weight)\n",
        "         else:\n",
        "             ucrt = 0\n",
        "             print(\"UCRT for lab:\", ucrt)\n",
        "\n",
        "     if 'lecture' in type_c:\n",
        "         if 'lecture' in type_r:\n",
        "             weight = list(P[key][\"weight\"][0])\n",
        "             print(\"Weight for lecture:\", weight)\n",
        "         else:\n",
        "             ucrt = 0\n",
        "             print(\"UCRT for lecture:\", ucrt)\n"
      ],
      "metadata": {
        "id": "l34Dt5k1HNAK"
      },
      "execution_count": null,
      "outputs": []
    },
    {
      "cell_type": "code",
      "source": [
        "for key in C.keys():\n",
        "    hours_per_week = C[key][\"hoursPerWeek\"]\n",
        "    h_c = sum(hours_per_week)*2\n",
        "print(h_c)"
      ],
      "metadata": {
        "colab": {
          "base_uri": "https://localhost:8080/"
        },
        "id": "iKcqPKgLuTQz",
        "outputId": "c3aacde2-465a-40ab-e5cd-f70117d13bde"
      },
      "execution_count": null,
      "outputs": [
        {
          "output_type": "stream",
          "name": "stdout",
          "text": [
            "8\n"
          ]
        }
      ]
    },
    {
      "cell_type": "code",
      "source": [
        "for key in P.keys():\n",
        "    for key in C.keys():\n",
        "        Pp = C[key]['teachers']\n",
        "        numteacher = len(Pp)\n",
        "\n",
        "for key in R.keys():\n",
        "    for key in C.keys():\n",
        "        type_r = R[key]['Type']\n",
        "        type_c = C[key]['type']\n",
        "\n",
        "\n",
        "def find_ucrt(C, R, dt):\n",
        "    result = {}\n",
        "\n",
        "    if numteacher == 1:\n",
        "        weight = list(P[key]['weight'][0])\n",
        "        result[key] = weight\n",
        "    elif numteacher == 2:\n",
        "        weight_p1 = P[1]['weight'][0]\n",
        "        weight_p2 = P[2]['weight'][0]\n",
        "        weight_p3 = P[3]['weight'][0]\n",
        "        minimum_weight = np.minimum(weight_p1, np.minimum(weight_p2, weight_p3))\n",
        "        result[key] = minimum_weight\n",
        "\n",
        "    if 'lab' in type_c and 'lab' in type_r:\n",
        "        weight = list(P[key]['weight'][0])\n",
        "        result[key] = weight\n",
        "    elif 'lecture' in type_c and 'lecture' in type_r:\n",
        "        weight = list(P[key]['weight'][0])\n",
        "        result[key] = weight\n",
        "    else:\n",
        "        weight = 0\n",
        "        result[key] = weight\n",
        "\n",
        "    return result"
      ],
      "metadata": {
        "id": "KWzKIt68_ljL"
      },
      "execution_count": 32,
      "outputs": []
    },
    {
      "cell_type": "code",
      "source": [
        "import numpy as np\n",
        "\n",
        "def find_ucrt(C, R, T):\n",
        "    result = {}\n",
        "    for key_p in P.keys():\n",
        "        for key_c in C.keys():\n",
        "            for key_r in R.keys():\n",
        "                Pp = C[key_c]['teachers']\n",
        "                numteacher = len(Pp)\n",
        "                type_r = R[key_r]['Type']\n",
        "                type_c = C[key_c]['type']\n",
        "\n",
        "                key = (key_p, key_c, key_r)\n",
        "\n",
        "                if numteacher == 1:\n",
        "                    weight = list(P[key_p]['weight'][0])\n",
        "                    result[key] = weight\n",
        "                elif numteacher == 2:\n",
        "                    weight_p1 = P[1]['weight'][0]\n",
        "                    weight_p2 = P[2]['weight'][0]\n",
        "                    weight_p3 = P[3]['weight'][0]\n",
        "                    minimum_weight = np.minimum(weight_p1, np.minimum(weight_p2, weight_p3))\n",
        "                    result[key] = minimum_weight\n",
        "\n",
        "                if 'lab' in type_c and 'lab' in type_r:\n",
        "                    weight = list(P[key_p]['weight'][0])\n",
        "                    result[key] = weight\n",
        "                elif 'lecture' in type_c and 'lecture' in type_r:\n",
        "                    weight = list(P[key_p]['weight'][0])\n",
        "                    result[key] = weight\n",
        "                else:\n",
        "                    weight = 0\n",
        "                    result[key] = weight\n",
        "\n",
        "    return result\n"
      ],
      "metadata": {
        "id": "7hQN_BJIExM5"
      },
      "execution_count": 18,
      "outputs": []
    },
    {
      "cell_type": "code",
      "source": [
        "find_ucrt(5,2,Tfri)"
      ],
      "metadata": {
        "colab": {
          "base_uri": "https://localhost:8080/"
        },
        "id": "PRYc-yp3Bx-v",
        "outputId": "cb284749-eae1-4228-cb23-93db2e77ef96"
      },
      "execution_count": 34,
      "outputs": [
        {
          "output_type": "execute_result",
          "data": {
            "text/plain": [
              "{5: 0}"
            ]
          },
          "metadata": {},
          "execution_count": 34
        }
      ]
    },
    {
      "cell_type": "code",
      "source": [
        "def hc(C):\n",
        "    h_c = 0\n",
        "    for key in C.keys():\n",
        "        hours_per_week = C[key][\"hoursPerWeek\"]\n",
        "        h_c = sum(hours_per_week) * 2\n",
        "\n",
        "    return h_c"
      ],
      "metadata": {
        "id": "paNt2b_r-V9l"
      },
      "execution_count": 15,
      "outputs": []
    },
    {
      "cell_type": "code",
      "source": [
        "find_ucrt_result = find_ucrt(C, R, T)\n",
        "\n",
        "ucrt_per_hc = {}\n",
        "for key in find_ucrt_result.keys():\n",
        "    ucrt_per_hc[key] = find_ucrt_result[key] / hc(C)\n",
        "\n",
        "print(\"UCRT per HC:\", ucrt_per_hc)\n"
      ],
      "metadata": {
        "colab": {
          "base_uri": "https://localhost:8080/"
        },
        "id": "wtW-nKdJDAOG",
        "outputId": "2b79b6c2-71a1-4603-aa0c-335f24595285"
      },
      "execution_count": 27,
      "outputs": [
        {
          "output_type": "stream",
          "name": "stdout",
          "text": [
            "UCRT per HC: {5: 0.0}\n"
          ]
        }
      ]
    },
    {
      "cell_type": "markdown",
      "source": [
        "# **Model**"
      ],
      "metadata": {
        "id": "vQ9RibHtHVai"
      }
    },
    {
      "cell_type": "code",
      "source": [
        "!pip install pyomo\n",
        "import sys\n",
        "import numpy as np\n",
        "from pyomo import environ as pe\n",
        "from pyomo.environ import *"
      ],
      "metadata": {
        "colab": {
          "base_uri": "https://localhost:8080/"
        },
        "id": "wKNdjSWuHeCW",
        "outputId": "0b1756ca-93ec-491e-96f6-76279e7948ae"
      },
      "execution_count": 20,
      "outputs": [
        {
          "output_type": "stream",
          "name": "stdout",
          "text": [
            "Collecting pyomo\n",
            "  Downloading Pyomo-6.7.0-cp310-cp310-manylinux_2_17_x86_64.manylinux2014_x86_64.whl (12.5 MB)\n",
            "\u001b[2K     \u001b[90m━━━━━━━━━━━━━━━━━━━━━━━━━━━━━━━━━━━━━━━━\u001b[0m \u001b[32m12.5/12.5 MB\u001b[0m \u001b[31m23.0 MB/s\u001b[0m eta \u001b[36m0:00:00\u001b[0m\n",
            "\u001b[?25hCollecting ply (from pyomo)\n",
            "  Downloading ply-3.11-py2.py3-none-any.whl (49 kB)\n",
            "\u001b[2K     \u001b[90m━━━━━━━━━━━━━━━━━━━━━━━━━━━━━━━━━━━━━━━━\u001b[0m \u001b[32m49.6/49.6 kB\u001b[0m \u001b[31m5.6 MB/s\u001b[0m eta \u001b[36m0:00:00\u001b[0m\n",
            "\u001b[?25hInstalling collected packages: ply, pyomo\n",
            "Successfully installed ply-3.11 pyomo-6.7.0\n"
          ]
        }
      ]
    },
    {
      "cell_type": "code",
      "source": [
        "# สร้างโมเดล\n",
        "model = ConcreteModel()\n",
        "# Sets\n",
        "model.C = Set(initialize=C.keys())  # รายวิชา\n",
        "model.R = Set(initialize=R.keys())  # ห้องเรียน\n",
        "model.T = Set(initialize=T.keys())  # ช่วงเวลา\n",
        "model.P = Set(initialize=P.keys())  # ผู้สอน\n",
        "model.S = Set(initialize=S.keys())  # นักศึกษา\n",
        "model.D = Set(initialize=TD.keys())\n",
        "model.T_M = Set(initialize=Tmo.keys())  # วันจันทร์\n",
        "model.T_T = Set(initialize=Ttue.keys())  # วันอังคาร\n",
        "model.T_W = Set(initialize=Twed.keys())  # วันพุธ\n",
        "model.T_Th = Set(initialize=Tth.keys())  # วันพฤหัสบดี\n",
        "model.T_F = Set(initialize=Tfri.keys())  # วันศุกร์\n",
        "model.C_p = Set(initialize=P.keys())\n",
        "model.C_s = Set(initialize=S.keys())\n",
        "model.R_c = Set(initialize=C.keys())\n",
        "model.T_p = Set(initialize=P.keys())\n",
        "model.T_tc = Set(initialize=T.keys())"
      ],
      "metadata": {
        "id": "j-A2UZhBhDkS"
      },
      "execution_count": 22,
      "outputs": []
    },
    {
      "cell_type": "code",
      "source": [
        "#Variables\n",
        "model.x_crt = Var(model.C, model.R, model.T, within=Binary)"
      ],
      "metadata": {
        "id": "30Oufr1eht0N"
      },
      "execution_count": 29,
      "outputs": []
    },
    {
      "cell_type": "code",
      "source": [
        "#objective function\n",
        "model.objective = Objective(expr=sum(model.x_crt[c, r, t] for c in model.C for r in model.R_c for t in model.T), sense=maximize)"
      ],
      "metadata": {
        "id": "wb8hYdPEtk_q"
      },
      "execution_count": null,
      "outputs": []
    },
    {
      "cell_type": "code",
      "source": [],
      "metadata": {
        "id": "J9LDD3Fct4qe"
      },
      "execution_count": null,
      "outputs": []
    },
    {
      "cell_type": "code",
      "source": [
        "def Objective_rule(model):\n",
        "    return sum([ucrt_per_hc*model.x_crt[C, R, T] for c in model.C for r in model.R for t in model.T])\n",
        "\n",
        "\n",
        "model.obj = Objective(rule=Objective_rule, sense=maximize)"
      ],
      "metadata": {
        "id": "bRGZo_fFl0QJ"
      },
      "execution_count": null,
      "outputs": []
    },
    {
      "cell_type": "code",
      "source": [
        "# Constraints\n",
        "# Constraint 1\n",
        "model.const1 = ConstraintList()\n",
        "for t in T:\n",
        "    for r in R:\n",
        "        model.const1.add(sum(model.x[c, r, t] for c in C) <= 1)\n",
        "\n",
        "# Constraint 2\n",
        "model.const2 = ConstraintList()\n",
        "for p in P:\n",
        "    for t in T:\n",
        "        model.const2.add(sum(model.x[c, r, t] for r in R for c in Cp) <= 1)\n",
        "\n",
        "# Constraint 3\n",
        "model.const3 = ConstraintList()\n",
        "for r in R:\n",
        "    for c in C:\n",
        "        for t in T:\n",
        "            model.const3.add(sum(model.z[s, c, r, t] for s in S) <= cap_r[r])\n",
        "\n",
        "# Constraint 4\n",
        "model.const4 = ConstraintList()\n",
        "for c in C:\n",
        "    for r in Rc:\n",
        "        for t in T:\n",
        "            model.const4.add(sum(model.z[s, c, r, t] for s in S) <= cap_c[c])\n",
        "\n",
        "# Constraint 5\n",
        "model.const5 = ConstraintList()\n",
        "for c in C:\n",
        "    for r in Rc:\n",
        "        for d in D:\n",
        "            for t in Td:\n",
        "                model.const5.add(sum(model.x[c, r, tt] for tt in T_prime[d]) <= len(T_prime[d]) * (1 - model.x[c, r, t]))\n",
        "\n",
        "# Constraint 6\n",
        "model.const6 = ConstraintList()\n",
        "model.const6.add(sum(model.x[c, r, t] for c in C for r in Rc for t in [9, 26, 44, 62, 80]) <= 1)\n",
        "\n",
        "# Constraint 7\n",
        "model.const7 = ConstraintList()\n",
        "for c in C:\n",
        "    model.const7.add(model.v[c, 'M'] + model.v[c, 'Tu'] <= 1)\n",
        "    model.const7.add(model.v[c, 'Tu'] + model.v[c, 'W'] <= 1)\n",
        "    model.const7.add(model.v[c, 'W'] + model.v[c, 'Th'] <= 1)\n",
        "    model.const7.add(model.v[c, 'Th'] + model.v[c, 'F'] <= 1)\n",
        "\n",
        "# Constraint 8\n",
        "model.const8 = ConstraintList()\n",
        "for c in C:\n",
        "    model.const8.add(sum(model.x[c, r, t] for r in R for t in T) <= model.w[c, 'w'] * sum(model.x[c, r, t] for r in R for t in T))\n",
        "\n",
        "# Constraint 9\n",
        "model.const9 = ConstraintList()\n",
        "for s in S:\n",
        "    for c in Cs:\n",
        "        for r in Rc:\n",
        "            for t in T:\n",
        "                model.const9.add(model.x[c, r, t] <= model.z[s, c, r, t])\n",
        "\n",
        "# Constraint 10\n",
        "model.const10 = ConstraintList()\n",
        "for p in P:\n",
        "    for c in Cp:\n",
        "        for r in Rc:\n",
        "            for t in T:\n",
        "                model.const10.add(model.x[c, r, t] == 0)\n",
        "\n",
        "# Constraint 11\n",
        "model.const11 = ConstraintList()\n",
        "for p in P:\n",
        "    for d in D:\n",
        "        model.const11.add(sum(model.x[c, r, t] for c in Cp for r in Rc for t in Td) <= 2 * k_p[p])\n",
        "\n",
        "# Constraint 12\n",
        "model.const12 = ConstraintList()\n",
        "for s in S:\n",
        "    model.const12.add(sum(model.z[s, c, r, t] for c in Cs for r in Rc for t in T_day) <= 2 * k_s)\n",
        "\n",
        "# Constraint 13\n",
        "model.const13 = ConstraintList()\n",
        "for c in C:\n",
        "    model.const13.add(sum(model.w[c, d] for d in D) == kc[c])"
      ],
      "metadata": {
        "id": "uwa82Z_nFTFz"
      },
      "execution_count": null,
      "outputs": []
    },
    {
      "cell_type": "markdown",
      "source": [
        "# **Solve**"
      ],
      "metadata": {
        "id": "wzX9dxNRtnt4"
      }
    },
    {
      "cell_type": "code",
      "source": [
        "!sudo apt-get install glpk-utils\n",
        "solver = pe.SolverFactory('glpk', executable='/usr/bin/glpsol')\n",
        "solution = solver.solve(model)"
      ],
      "metadata": {
        "id": "C1ZxpWa9tqbH"
      },
      "execution_count": null,
      "outputs": []
    },
    {
      "cell_type": "code",
      "source": [
        "from pyomo.opt import SolverFactory\n",
        "\n",
        "# กำหนด Solver\n",
        "opt = SolverFactory('glpk')\n",
        "opt.solve(model, tee=True)\n",
        "\n",
        "# แสดงผลลัพธ์\n",
        "model.display()\n"
      ],
      "metadata": {
        "id": "JsUL-3z4tqVb"
      },
      "execution_count": null,
      "outputs": []
    },
    {
      "cell_type": "code",
      "source": [
        "# บันทึกโมเดลเป็นไฟล์ .lp\n",
        "model.write('model.lp', io_options={'symbolic_solver_labels': True})\n",
        "\n",
        "from google.colab import files\n",
        "files.download('model.lp')"
      ],
      "metadata": {
        "id": "sF-um0uTt1TA"
      },
      "execution_count": null,
      "outputs": []
    }
  ]
}