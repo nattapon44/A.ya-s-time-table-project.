{
  "nbformat": 4,
  "nbformat_minor": 0,
  "metadata": {
    "colab": {
      "provenance": [],
      "include_colab_link": true
    },
    "kernelspec": {
      "name": "python3",
      "display_name": "Python 3"
    },
    "language_info": {
      "name": "python"
    }
  },
  "cells": [
    {
      "cell_type": "markdown",
      "metadata": {
        "id": "view-in-github",
        "colab_type": "text"
      },
      "source": [
        "<a href=\"https://colab.research.google.com/github/nattapon44/time-table-project/blob/main/model6.ipynb\" target=\"_parent\"><img src=\"https://colab.research.google.com/assets/colab-badge.svg\" alt=\"Open In Colab\"/></a>"
      ]
    },
    {
      "cell_type": "code",
      "source": [
        "import numpy as np"
      ],
      "metadata": {
        "id": "s05hJp6Y_EoK"
      },
      "execution_count": 1,
      "outputs": []
    },
    {
      "cell_type": "markdown",
      "source": [
        "# **DATA**"
      ],
      "metadata": {
        "id": "cslzwhAjSvTK"
      }
    },
    {
      "cell_type": "markdown",
      "metadata": {
        "id": "JWZdlCpxsNlH"
      },
      "source": [
        "A set of time period T"
      ]
    },
    {
      "cell_type": "code",
      "source": [
        "D = { 1: 'Monday',\n",
        "      2: 'Tuesday',\n",
        "      3: 'Wednesday',\n",
        "      4: 'Thursday',\n",
        "      5: 'Friday'}"
      ],
      "metadata": {
        "id": "cJo2hTB8OUBS"
      },
      "execution_count": 2,
      "outputs": []
    },
    {
      "cell_type": "code",
      "source": [
        "T = { 1: '8 am',\n",
        "   \t  2: '8:30 am',\n",
        "\t    3: '9 am',\n",
        "\t    4: '9:30 am',\n",
        "   \t  5: '10 am',\n",
        "\t    6: '10:30 am',\n",
        "      7: '11 am',\n",
        "      8: '11:30 am',\n",
        "   \t  9: '1 pm',\n",
        "\t    10: '1:30 pm',\n",
        "\t    11: '2 pm',\n",
        "   \t  12: '2:30 pm',\n",
        "\t    13: '3 pm',\n",
        "      14: '3:30 pm',\n",
        "      15: '4 pm',\n",
        "   \t  16: '4:30 pm',\n",
        "\t    17: '5 pm',\n",
        "\t    18: '5:30 pm'}"
      ],
      "metadata": {
        "id": "u7WeGjbuPUIa"
      },
      "execution_count": 3,
      "outputs": []
    },
    {
      "cell_type": "markdown",
      "source": [
        "A set of Room R"
      ],
      "metadata": {
        "id": "_dAnE7mJTGje"
      }
    },
    {
      "cell_type": "code",
      "source": [
        "R = {1: {\"Name\":'SC6409',\n",
        "\t\t \t\t \"Capacity\": 40,\n",
        "\t\t     \"Type\": \"lecture\"},\n",
        "\t   2: {\"Name\":'SC6410',\n",
        "\t\t     \"Capacity\": 8,\n",
        "\t\t     \"Type\": \"lecture\",},\n",
        "\t\t 3: {\"Name\":'mirrorRoom',\n",
        "\t\t     \"Capacity\": 8,\n",
        "\t\t     \"Type\": \"lecture\",},\n",
        "\t\t 4: {\"Name\":'labRoom',\n",
        "\t\t     \"Capacity\": 40,\n",
        "\t\t    \"Type\": \"lab\",},\n",
        "\t\t 5: {\"Name\":'SC6501',\n",
        "\t\t    \"Capacity\": 119,\n",
        "\t\t    \"Type\": \"lecture\",},\n",
        "\t\t 6: {\"Name\":'SC6502',\n",
        "\t\t    \"Capacity\": 104,\n",
        "\t\t    \"Type\": \"lecture\",}\n",
        "\t\t}"
      ],
      "metadata": {
        "id": "8RfVdEDWTGFj"
      },
      "execution_count": 4,
      "outputs": []
    },
    {
      "cell_type": "markdown",
      "source": [
        "A set of courses C"
      ],
      "metadata": {
        "id": "aydVka0vTL8j"
      }
    },
    {
      "cell_type": "code",
      "source": [
        "C = {1: {\"courseName\": 'SC653205',\n",
        "         \"teachers\": {1:'A'},\n",
        "         \"courseCapacity\": 40,\n",
        "         \"hoursPerWeek\": [2,2],\n",
        "         \"type\": [\"lecture\", \"lecture\"]},\n",
        "     2: {\"courseName\": 'SC653206',\n",
        "         \"teachers\": {2:'B'},\n",
        "         \"courseCapacity\": 80,\n",
        "         \"hoursPerWeek\": [2,2],\n",
        "         \"type\": [\"lecture\", \"lecture\"]},\n",
        "     3: {\"courseName\": 'SC653301',\n",
        "         \"teachers\": {2:'B'},\n",
        "         \"courseCapacity\": 40,\n",
        "         \"hoursPerWeek\": [2,2],\n",
        "         \"type\": [\"lecture\", \"lecture\"]},\n",
        "     4: {\"courseName\": 'SC663405',\n",
        "         \"teachers\": {3:'C'},\n",
        "         \"courseCapacity\": 40,\n",
        "         \"hoursPerWeek\": [2,2],\n",
        "         \"type\": [\"lab\", \"lab\"]},\n",
        "     5: {\"courseName\": 'SC653402',\n",
        "         \"teachers\": {1:'A', 3:'C'},\n",
        "         \"courseCapacity\": 40,\n",
        "         \"hoursPerWeek\": [2,2],\n",
        "         \"type\": [\"lab\", \"lab\"]},\n",
        "     }"
      ],
      "metadata": {
        "id": "YcgbEpsJTLUN"
      },
      "execution_count": 5,
      "outputs": []
    },
    {
      "cell_type": "markdown",
      "source": [
        "A set of professor P"
      ],
      "metadata": {
        "id": "Sdn-rvlOTun7"
      }
    },
    {
      "cell_type": "code",
      "source": [
        "P = {1: {'Name':'A',\n",
        "         'course': {1:'SC653205', 5:'SC653402'},\n",
        "         'weight':[[0, 0, 1, 1, 1, 1, 1, 1, 1, 1, 1, 1, 0.5, 0.5, 0.5, 0, 0 ,0],\n",
        "                   [0, 0, 0.5, 1, 1, 1, 1, 1, 1, 1, 1, 1, 0.5, 0.5, 0, 0.5, 0.5 ,0.5],\n",
        "                   [0, 0, 0, 1, 0, 1, 1, 1, 0, 1, 1, 1, 0.5, 0.5, 0.5, 0, 0.5 ,0.5],\n",
        "                   [0, 0, 1, 1, 1, 1, 1, 0, 1, 1, 1, 0, 0.5, 1, 1, 0.5, 0.5 ,0.5],\n",
        "                   [0, 0, 1, 1, 1, 1, 1, 1, 1, 1, 1, 1, 0.5, 0.5, 0.5, 0.5, 0.5,0.5]]},\n",
        "\t   2: {'Name':'B',\n",
        "         'course': {2:'SC653206', 3:'SC653301'},\n",
        "         'weight':[[0, 0, 0, 0, 1, 1, 1, 1, 1, 1, 0.5, 0.5, 0.5, 1, 0.5, 0.5, 0.5 ,0.5],\n",
        "                   [0, 0, 0, 0, 1, 1, 0, 0.5, 1, 1, 1, 1, 0.5, 0.5, 0.5, 0.5, 0.5 ,0.5],\n",
        "                   [0, 0, 1, 0.5, 1, 0.5, 0.5, 1, 1, 1, 1, 1, 0.5, 1, 1, 1, 0.5 ,0.5],\n",
        "                   [0, 0, 1, 1, 1, 1, 1, 1, 1, 1, 1, 1, 0.5, 0, 0, 1, 1 , 1],\n",
        "                   [0, 0, 1, 1, 1, 1, 1, 1, 1, 0.5, 0.5, 0.5, 0.5, 0.5, 1, 1, 0 ,0]]},\n",
        "     3: {'Name':'C',\n",
        "         'course': {4:'SC663405', 5:'SC653402'},\n",
        "         'weight':[[0.5, 0.5, 0.5, 1, 1, 1, 0, 0, 0, 1, 1, 1, 1, 0.5, 0, 1, 1 ,0.5],\n",
        "                   [0, 0, 1, 1, 1, 1, 1, 0.5, 0.5, 1, 1, 1, 0.5, 0.5, 0.5, 0, 0 ,0],\n",
        "                   [0, 0, 1, 1, 1, 0.5, 1, 1, 0.5, 0.5, 0.5, 1, 0.5, 1, 1, 0.5, 0.5 ,0.5],\n",
        "                   [0, 0, 1, 1, 1, 1, 1, 1, 1, 1, 1, 1, 0.5, 0.5, 0.5, 0.5, 0.5 ,0.5],\n",
        "                   [0, 0, 0.5, 0.5, 0.5, 1, 1, 1, 1, 1, 1, 1, 0.5, 0.5, 0, 0, 0 ,0]]}}"
      ],
      "metadata": {
        "id": "-z-yPjF-Tway"
      },
      "execution_count": 6,
      "outputs": []
    },
    {
      "cell_type": "markdown",
      "source": [
        "A set of students S"
      ],
      "metadata": {
        "id": "zmawN3QvTxX5"
      }
    },
    {
      "cell_type": "code",
      "source": [
        "S = { 1: {'Major': 'STAT',\n",
        "          'Year': 3,\n",
        "          'courseRegister':  {1:\"SC653205\", 2:\"SC653206\", 3:\"SC653301\", 4:\"SC663405\", 5:\"SC653402\"},\n",
        "          'Availability': np.array([[0, 0, 1, 1, 1, 1, 1, 1, 1, 1, 1, 1, 1, 1, 1, 1, 0, 0],\n",
        "                                    [0, 0, 1, 1, 1, 1, 1, 1, 1, 1, 1, 1, 1, 1, 1, 1, 0, 0],\n",
        "                                    [0, 0, 1, 1, 1, 1, 1, 1, 1, 1, 1, 1, 1, 1, 1, 1, 0, 0],\n",
        "                                    [0, 0, 1, 1, 1, 1, 1, 1, 1, 1, 1, 1, 1, 1, 1, 1, 0, 0],\n",
        "                                    [0, 0, 1, 1, 1, 1, 1, 1, 1, 1, 1, 1, 1, 1, 1, 1, 0, 0]])},\n",
        "      2: {'Major': 'STAT',\n",
        "          'Year': 3,\n",
        "          'courseRegister':  {1:\"SC653205\", 2:\"SC653206\", 3:\"SC653301\", 4:\"SC663405\", 5:\"SC653402\"},\n",
        "          'Availability': np.array([[0, 0, 1, 1, 1, 1, 1, 1, 1, 1, 1, 1, 1, 1, 1, 1, 0, 0],\n",
        "                                    [0, 0, 1, 1, 1, 1, 1, 1, 1, 1, 1, 1, 1, 1, 1, 1, 0, 0],\n",
        "                                    [0, 0, 1, 1, 1, 1, 1, 1, 1, 1, 1, 1, 1, 1, 1, 1, 0, 0],\n",
        "                                    [0, 0, 1, 1, 1, 1, 1, 1, 1, 1, 1, 1, 1, 1, 1, 1, 0, 0],\n",
        "                                    [0, 0, 1, 1, 1, 1, 1, 1, 1, 1, 1, 1, 1, 1, 1, 1, 0, 0]])},\n",
        "      3: {'Major': 'STAT',\n",
        "          'Year': 3,\n",
        "          'courseRegister':  {1:\"SC653205\", 2:\"SC653206\", 3:\"SC653301\", 4:\"SC663405\", 5:\"SC653402\"},\n",
        "          'Availability': np.array([[0, 0, 1, 1, 1, 1, 1, 1, 1, 1, 1, 1, 1, 1, 1, 1, 0, 0],\n",
        "                                    [0, 0, 1, 1, 1, 1, 1, 1, 1, 1, 1, 1, 1, 1, 1, 1, 0, 0],\n",
        "                                    [0, 0, 1, 1, 1, 1, 1, 1, 1, 1, 1, 1, 1, 1, 1, 1, 0, 0],\n",
        "                                    [0, 0, 1, 1, 1, 1, 1, 1, 1, 1, 1, 1, 1, 1, 1, 1, 0, 0],\n",
        "                                    [0, 0, 1, 1, 1, 1, 1, 1, 1, 1, 1, 1, 1, 1, 1, 1, 0, 0]])},\n",
        "      4: {'Major': 'STAT',\n",
        "          'Year': 3,\n",
        "          'courseRegister':  {1:\"SC653205\", 2:\"SC653206\", 3:\"SC653301\", 4:\"SC663405\", 5:\"SC653402\"},\n",
        "          'Availability': np.array([[0, 0, 1, 1, 1, 1, 1, 1, 1, 1, 1, 1, 1, 1, 1, 1, 0, 0],\n",
        "                                    [0, 0, 1, 1, 1, 1, 1, 1, 1, 1, 1, 1, 1, 1, 1, 1, 0, 0],\n",
        "                                    [0, 0, 1, 1, 1, 1, 1, 1, 1, 1, 1, 1, 1, 1, 1, 1, 0, 0],\n",
        "                                    [0, 0, 1, 1, 1, 1, 1, 1, 1, 1, 1, 1, 1, 1, 1, 1, 0, 0],\n",
        "                                    [0, 0, 1, 1, 1, 1, 1, 1, 1, 1, 1, 1, 1, 1, 1, 1, 0, 0]])},\n",
        "      5: {'Major': 'STAT',\n",
        "          'Year': 3,\n",
        "          'courseRegister':  {1:\"SC653205\", 2:\"SC653206\", 3:\"SC653301\", 4:\"SC663405\", 5:\"SC653402\"},\n",
        "          'Availability': np.array([[0, 0, 1, 1, 1, 1, 1, 1, 1, 1, 1, 1, 1, 1, 1, 1, 0, 0],\n",
        "                                    [0, 0, 1, 1, 1, 1, 1, 1, 1, 1, 1, 1, 1, 1, 1, 1, 0, 0],\n",
        "                                    [0, 0, 1, 1, 1, 1, 1, 1, 1, 1, 1, 1, 1, 1, 1, 1, 0, 0],\n",
        "                                    [0, 0, 1, 1, 1, 1, 1, 1, 1, 1, 1, 1, 1, 1, 1, 1, 0, 0],\n",
        "                                    [0, 0, 1, 1, 1, 1, 1, 1, 1, 1, 1, 1, 1, 1, 1, 1, 0, 0]])},\n",
        "      6: {'Major': 'SIDS',\n",
        "          'Year': 3,\n",
        "          'courseRegister':  {1:\"SC653205\", 2:\"SC653206\", 3:\"SC653301\", 4:\"SC663405\", 5:\"SC653402\"},\n",
        "          'Availability': np.array([[0, 0, 1, 1, 1, 1, 1, 1, 1, 1, 1, 1, 1, 1, 1, 1, 0, 0],\n",
        "                                    [0, 0, 1, 1, 1, 1, 1, 1, 1, 1, 1, 1, 1, 1, 1, 1, 0, 0],\n",
        "                                    [0, 0, 1, 1, 1, 1, 1, 1, 1, 1, 1, 1, 1, 1, 1, 1, 0, 0],\n",
        "                                    [0, 0, 1, 1, 1, 1, 1, 1, 1, 1, 1, 1, 1, 1, 1, 1, 0, 0],\n",
        "                                    [0, 0, 1, 1, 1, 1, 1, 1, 1, 1, 1, 1, 1, 1, 1, 1, 0, 0]])},\n",
        "      7: {'Major': 'SIDS',\n",
        "          'Year': 3,\n",
        "          'courseRegister':  {1:\"SC653205\", 2:\"SC653206\", 3:\"SC653301\", 4:\"SC663405\", 5:\"SC653402\"},\n",
        "          'Availability': np.array([[0, 0, 1, 1, 1, 1, 1, 1, 1, 1, 1, 1, 1, 1, 1, 1, 0, 0],\n",
        "                                    [0, 0, 1, 1, 1, 1, 1, 1, 1, 1, 1, 1, 1, 1, 1, 1, 0, 0],\n",
        "                                    [0, 0, 1, 1, 1, 1, 1, 1, 1, 1, 1, 1, 1, 1, 1, 1, 0, 0],\n",
        "                                    [0, 0, 1, 1, 1, 1, 1, 1, 1, 1, 1, 1, 1, 1, 1, 1, 0, 0],\n",
        "                                    [0, 0, 1, 1, 1, 1, 1, 1, 1, 1, 1, 1, 1, 1, 1, 1, 0, 0]])},\n",
        "      8: {'Major': 'SIDS',\n",
        "          'Year': 3,\n",
        "          'courseRegister':  {1:\"SC653205\", 2:\"SC653206\", 3:\"SC653301\", 4:\"SC663405\", 5:\"SC653402\"},\n",
        "          'Availability': np.array([[0, 0, 1, 1, 1, 1, 1, 1, 1, 1, 1, 1, 1, 1, 1, 1, 0, 0],\n",
        "                                    [0, 0, 1, 1, 1, 1, 1, 1, 1, 1, 1, 1, 1, 1, 1, 1, 0, 0],\n",
        "                                    [0, 0, 1, 1, 1, 1, 1, 1, 1, 1, 1, 1, 1, 1, 1, 1, 0, 0],\n",
        "                                    [0, 0, 1, 1, 1, 1, 1, 1, 1, 1, 1, 1, 1, 1, 1, 1, 0, 0],\n",
        "                                    [0, 0, 1, 1, 1, 1, 1, 1, 1, 1, 1, 1, 1, 1, 1, 1, 0, 0]])},\n",
        "      9: {'Major': 'SIDS',\n",
        "          'Year': 3,\n",
        "          'courseRegister':  {1:\"SC653205\", 2:\"SC653206\", 3:\"SC653301\", 4:\"SC663405\", 5:\"SC653402\"},\n",
        "          'Availability': np.array([[0, 0, 1, 1, 1, 1, 1, 1, 1, 1, 1, 1, 1, 1, 1, 1, 0, 0],\n",
        "                                    [0, 0, 1, 1, 1, 1, 1, 1, 1, 1, 1, 1, 1, 1, 1, 1, 0, 0],\n",
        "                                    [0, 0, 1, 1, 1, 1, 1, 1, 1, 1, 1, 1, 1, 1, 1, 1, 0, 0],\n",
        "                                    [0, 0, 1, 1, 1, 1, 1, 1, 1, 1, 1, 1, 1, 1, 1, 1, 0, 0],\n",
        "                                    [0, 0, 1, 1, 1, 1, 1, 1, 1, 1, 1, 1, 1, 1, 1, 1, 0, 0]])},\n",
        "      10: {'Major': 'SIDS',\n",
        "          'Year': 3,\n",
        "          'courseRegister':  {1:\"SC653205\", 2:\"SC653206\", 3:\"SC653301\", 4:\"SC663405\", 5:\"SC653402\"},\n",
        "           'Availability': np.array([[0, 0, 1, 1, 1, 1, 1, 1, 1, 1, 1, 1, 1, 1, 1, 1, 0, 0],\n",
        "                                    [0, 0, 1, 1, 1, 1, 1, 1, 1, 1, 1, 1, 1, 1, 1, 1, 0, 0],\n",
        "                                    [0, 0, 1, 1, 1, 1, 1, 1, 1, 1, 1, 1, 1, 1, 1, 1, 0, 0],\n",
        "                                    [0, 0, 1, 1, 1, 1, 1, 1, 1, 1, 1, 1, 1, 1, 1, 1, 0, 0],\n",
        "                                    [0, 0, 1, 1, 1, 1, 1, 1, 1, 1, 1, 1, 1, 1, 1, 1, 0, 0]])}\n",
        "          }"
      ],
      "metadata": {
        "id": "XLQkoKhaT0Ed"
      },
      "execution_count": 7,
      "outputs": []
    },
    {
      "cell_type": "code",
      "source": [
        "def find_ucrdt(c, r, d, t):\n",
        "\n",
        "    type_r = R[r]['Type']\n",
        "    #print(type_r)\n",
        "    type_c = C[c]['type']\n",
        "    #print(type_c)\n",
        "\n",
        "    if type_r == 'lecture' and 'lab' in type_c:\n",
        "      #print(\"checking room\")\n",
        "      return 0\n",
        "\n",
        "    else:\n",
        "      Pp = list(C[c]['teachers'].keys())\n",
        "      numteacher = len(Pp)\n",
        "      if numteacher == 1:\n",
        "        #print(\"Hello1\")\n",
        "        p_index = Pp[0]\n",
        "        return P[p_index]['weight'][d-1][t-1]\n",
        "      elif numteacher >= 2:\n",
        "        #print(\"Hello>1\", Pp)\n",
        "        min_weight = []\n",
        "        for p_index in Pp:\n",
        "          min_weight.append(P[p_index]['weight'][d-1][t-1])\n",
        "        return min(min_weight)"
      ],
      "metadata": {
        "id": "hAmQWFSIfIs4"
      },
      "execution_count": 8,
      "outputs": []
    },
    {
      "cell_type": "code",
      "source": [
        "def hc(c):\n",
        "  hours_per_week = C[c][\"hoursPerWeek\"]\n",
        "  h_c = sum(hours_per_week)*2\n",
        "  return h_c\n"
      ],
      "metadata": {
        "id": "PFaIbOgQnbDK"
      },
      "execution_count": 9,
      "outputs": []
    },
    {
      "cell_type": "code",
      "source": [
        "def capr(r):\n",
        "  return R[r]['Capacity']"
      ],
      "metadata": {
        "id": "s3df-XDHGc9A"
      },
      "execution_count": 10,
      "outputs": []
    },
    {
      "cell_type": "code",
      "source": [
        "def capc(c):\n",
        "  return C[c]['courseCapacity']"
      ],
      "metadata": {
        "id": "P3ErqMiNsfCD"
      },
      "execution_count": 11,
      "outputs": []
    },
    {
      "cell_type": "code",
      "source": [
        "def kp(p):\n",
        "  return 6"
      ],
      "metadata": {
        "id": "CqbqpQyK_Ug8"
      },
      "execution_count": 12,
      "outputs": []
    },
    {
      "cell_type": "code",
      "source": [
        "def ks(s):\n",
        "  return 6"
      ],
      "metadata": {
        "id": "sha-xJlr4An1"
      },
      "execution_count": 13,
      "outputs": []
    },
    {
      "cell_type": "code",
      "source": [
        "def kc(c):\n",
        "  return len(C[c]['hoursPerWeek'])"
      ],
      "metadata": {
        "id": "bj8ikmO-0j2p"
      },
      "execution_count": 14,
      "outputs": []
    },
    {
      "cell_type": "code",
      "source": [
        "def a_sdt(s, d, t):\n",
        "  return S[s]['Availability'][d-1][t-1]"
      ],
      "metadata": {
        "id": "cXr1yglN1dEW"
      },
      "execution_count": 15,
      "outputs": []
    },
    {
      "cell_type": "code",
      "source": [
        "def tprime_tc(c, t):\n",
        "  hc ="
      ],
      "metadata": {
        "id": "2PGTzXCQ8o3W"
      },
      "execution_count": null,
      "outputs": []
    },
    {
      "cell_type": "code",
      "source": [
        "# input c, t\n",
        "# 1 ดึง hc\n",
        "# 2 t,+-2hc\n",
        "# 3 duplicate out of range\n",
        "# output t' list"
      ],
      "metadata": {
        "id": "nAgqadV8S2py"
      },
      "execution_count": null,
      "outputs": []
    },
    {
      "cell_type": "markdown",
      "source": [
        "# **Model**"
      ],
      "metadata": {
        "id": "vQ9RibHtHVai"
      }
    },
    {
      "cell_type": "code",
      "source": [
        "!pip install pyomo\n",
        "import sys\n",
        "import numpy as np\n",
        "from pyomo import environ as pe\n",
        "from pyomo.environ import *"
      ],
      "metadata": {
        "colab": {
          "base_uri": "https://localhost:8080/"
        },
        "id": "wKNdjSWuHeCW",
        "outputId": "034de06f-46ed-46b1-dd43-dfe538d0332b"
      },
      "execution_count": 17,
      "outputs": [
        {
          "output_type": "stream",
          "name": "stdout",
          "text": [
            "Collecting pyomo\n",
            "  Downloading Pyomo-6.7.1-cp310-cp310-manylinux_2_17_x86_64.manylinux2014_x86_64.whl (12.7 MB)\n",
            "\u001b[2K     \u001b[90m━━━━━━━━━━━━━━━━━━━━━━━━━━━━━━━━━━━━━━━━\u001b[0m \u001b[32m12.7/12.7 MB\u001b[0m \u001b[31m61.2 MB/s\u001b[0m eta \u001b[36m0:00:00\u001b[0m\n",
            "\u001b[?25hCollecting ply (from pyomo)\n",
            "  Downloading ply-3.11-py2.py3-none-any.whl (49 kB)\n",
            "\u001b[2K     \u001b[90m━━━━━━━━━━━━━━━━━━━━━━━━━━━━━━━━━━━━━━━━\u001b[0m \u001b[32m49.6/49.6 kB\u001b[0m \u001b[31m3.9 MB/s\u001b[0m eta \u001b[36m0:00:00\u001b[0m\n",
            "\u001b[?25hInstalling collected packages: ply, pyomo\n",
            "Successfully installed ply-3.11 pyomo-6.7.1\n"
          ]
        }
      ]
    },
    {
      "cell_type": "code",
      "source": [
        "# สร้างโมเดล\n",
        "model = ConcreteModel()\n",
        "# Sets\n",
        "model.C = Set(initialize=C.keys())\n",
        "model.R = Set(initialize=R.keys())\n",
        "model.T = Set(initialize=T.keys())\n",
        "model.P = Set(initialize=P.keys())\n",
        "model.S = Set(initialize=S.keys())\n",
        "model.D = Set(initialize=D.keys())\n",
        "model.Cp = Set(initialize=C.keys())\n",
        "model.Cs = Set(initialize=S.keys())\n",
        "model.Rc = Set(initialize=C.keys())\n",
        "model.Tp = Set(initialize=P.keys())\n",
        "model.Tprime_tc = Set(initialize=T.keys())"
      ],
      "metadata": {
        "id": "j-A2UZhBhDkS"
      },
      "execution_count": 79,
      "outputs": []
    },
    {
      "cell_type": "code",
      "source": [
        "#Variables\n",
        "model.x_crdt = Var(model.C, model.R, model.D, model.T, within=Binary)\n",
        "model.z_scrdt = Var(model.S, model.C, model.R, model.D, model.T, within=Binary)\n",
        "model.w_c = Var(model.C, within=Binary)\n",
        "model.w_cd = Var(model.C, model.D, within=Binary)\n",
        "model.y_pdt = Var(model.P, model.D, model.T, within=Binary)"
      ],
      "metadata": {
        "id": "30Oufr1eht0N"
      },
      "execution_count": 80,
      "outputs": []
    },
    {
      "cell_type": "code",
      "source": [
        "def Objective_rule(model):\n",
        "    return sum([(find_ucrdt(c,r,d,t)/hc(c))*model.x_crdt[c,r,d,t] for c in model.C for r in model.R for d in model.D for t in model.T ])\n",
        "\n",
        "\n",
        "model.obj = Objective(rule=Objective_rule, sense=maximize)"
      ],
      "metadata": {
        "id": "bRGZo_fFl0QJ"
      },
      "execution_count": 81,
      "outputs": []
    },
    {
      "cell_type": "code",
      "source": [
        "# Constraints\n",
        "# Constraint 1\n",
        "model.const1 = ConstraintList()\n",
        "for t in T:\n",
        "  for d in D:\n",
        "    for r in R:\n",
        "        model.const1.add(sum(model.x_crdt[c, r, d, t] for c in model.C) <= 1)"
      ],
      "metadata": {
        "id": "rNGfgD74EyXT"
      },
      "execution_count": 82,
      "outputs": []
    },
    {
      "cell_type": "code",
      "source": [
        "# Constraint 2\n",
        "model.const2 = ConstraintList()\n",
        "for p in P:\n",
        "  for d in D:\n",
        "    for t in T:\n",
        "        model.const2.add(sum(model.x_crdt[c, r, d, t] for r in model.R for c in model.Cp) <= 1)"
      ],
      "metadata": {
        "id": "smTmSu5IE7Fb"
      },
      "execution_count": 83,
      "outputs": []
    },
    {
      "cell_type": "code",
      "source": [
        "# Constraint 3\n",
        "model.const3 = ConstraintList()\n",
        "for r in R:\n",
        "    for c in C:\n",
        "      for d in D:\n",
        "        for t in T:\n",
        "            model.const3.add(sum(model.z_scrdt[s, c, r, d, t] for s in model.S) <= capr(r))"
      ],
      "metadata": {
        "id": "sq3AaiiurKAh"
      },
      "execution_count": 84,
      "outputs": []
    },
    {
      "cell_type": "code",
      "source": [
        "# Constraint 4\n",
        "model.const4 = ConstraintList()\n",
        "for c in C:\n",
        "    for r in R:\n",
        "      for d in D:\n",
        "        for t in T:\n",
        "            model.const4.add(sum(model.z_scrdt[s, c, r, d, t] for s in model.S) <= capc(c))"
      ],
      "metadata": {
        "id": "g8iGRi8CsZzs"
      },
      "execution_count": 85,
      "outputs": []
    },
    {
      "cell_type": "code",
      "source": [
        "# Constraint 5 ??\n",
        "model.const5 = ConstraintList()\n",
        "for c in C:\n",
        "  for r in R:\n",
        "    for d in D:\n",
        "      for t in T:\n",
        "        model.const5.add(sum(model.x_crdt[c, r, d, t] for t in model.Tprime_tc) <= M(1-model.x_crdt[c, r, d, t]))"
      ],
      "metadata": {
        "id": "jXP5Fzs87I0o"
      },
      "execution_count": null,
      "outputs": []
    },
    {
      "cell_type": "code",
      "source": [
        "# Constraint 6\n",
        "model.const6 = ConstraintList()\n",
        "for c in C:\n",
        "  for r in R:\n",
        "    for d in D:\n",
        "      for t in T:\n",
        "        model.const6.add(model.x_crdt[c, r, d, 8]+ model.x_crdt[c, r, d, 9] <= 1)"
      ],
      "metadata": {
        "id": "iorJVRpbB8la"
      },
      "execution_count": 86,
      "outputs": []
    },
    {
      "cell_type": "code",
      "source": [
        "# Constraint 7 ??\n",
        "model.const8 = ConstraintList()\n",
        "for c in C:\n",
        "  for d in D:\n",
        "      model.const8.add(model.w_cd[c, d] <= (sum(model.x_crdt[c, r, d, t] for r in model.R for T in model.T) <= model.w_cd[c, d]*hc(c)))"
      ],
      "metadata": {
        "id": "pthqSWBSFjgF"
      },
      "execution_count": 69,
      "outputs": []
    },
    {
      "cell_type": "code",
      "source": [
        "# Constraint 8\n",
        "model.const7 = ConstraintList()\n",
        "for c in C:\n",
        "  model.const7.add(model.w_cd[c, 1] + model.w_cd[c, 2] <= 1)\n",
        "  model.const7.add(model.w_cd[c, 2] + model.w_cd[c, 3] <= 1)\n",
        "  model.const7.add(model.w_cd[c, 3] + model.w_cd[c, 4] <= 1)\n",
        "  model.const7.add(model.w_cd[c, 4] + model.w_cd[c, 5] <= 1)"
      ],
      "metadata": {
        "id": "-_3iSUgbD7Hd"
      },
      "execution_count": 87,
      "outputs": []
    },
    {
      "cell_type": "code",
      "source": [
        "# Constraint 9\n",
        "model.const9 = ConstraintList()\n",
        "for s in S:\n",
        "    for c in C:\n",
        "        for r in R:\n",
        "          for d in D:\n",
        "            for t in T:\n",
        "                model.const9.add(model.x_crdt[c, r, d, t] <= model.z_scrdt[s, c, r, d, t])"
      ],
      "metadata": {
        "id": "YVkx4Cxf0ORA"
      },
      "execution_count": 88,
      "outputs": []
    },
    {
      "cell_type": "code",
      "source": [
        "# Constraint 10\n",
        "model.const10 = ConstraintList()\n",
        "for p in P:\n",
        "  for c in C:\n",
        "    for r in R:\n",
        "      for d in D:\n",
        "        for t in T:\n",
        "          model.const10.add(model.x_crdt[c, r, d, t] <= model.y_pdt[p, d, t])"
      ],
      "metadata": {
        "id": "aoJjMgk60jtV"
      },
      "execution_count": 89,
      "outputs": []
    },
    {
      "cell_type": "code",
      "source": [
        "# Constraint 11\n",
        "model.const11 = ConstraintList()\n",
        "for p in P:\n",
        "  for d in D:\n",
        "    for t in T:\n",
        "      model.const11.add(sum(model.y_pdt[p, d, t] for d in model.D for t in model.T) <= 2*kp(p)  )"
      ],
      "metadata": {
        "id": "fmqt0qvv1ZF3"
      },
      "execution_count": 90,
      "outputs": []
    },
    {
      "cell_type": "code",
      "source": [
        "# Constraint 12\n",
        "model.const12 = ConstraintList()\n",
        "for s in S:\n",
        "  for d in D:\n",
        "    model.const12.add(sum(model.z_scrdt[s, c, r, d, t] for c in model.C for r in model.R) <= 2*ks(s)  )"
      ],
      "metadata": {
        "id": "5JE_j0My12kU"
      },
      "execution_count": 91,
      "outputs": []
    },
    {
      "cell_type": "code",
      "source": [
        "# Constraint 13\n",
        "model.const13 = ConstraintList()\n",
        "for c in C:\n",
        "  model.const13.add(sum(model.w_cd[c, d] for d in D) == kc(c))"
      ],
      "metadata": {
        "id": "BvA21F3G2Ifb"
      },
      "execution_count": 92,
      "outputs": []
    },
    {
      "cell_type": "code",
      "source": [
        "# Constatint 14\n",
        "model.const14 = ConstraintList()\n",
        "for s in S:\n",
        "  for c in C:\n",
        "    for r in R:\n",
        "      model.const14.add(model.z_scrdt[s, c, r, d, t] <= a_sdt(s,d,t))"
      ],
      "metadata": {
        "id": "50xEQu3b2fFc"
      },
      "execution_count": 93,
      "outputs": []
    },
    {
      "cell_type": "code",
      "source": [
        "twoucrdt = 2*find_ucrdt(c,r,d,t)\n",
        "print(twoucrdt)"
      ],
      "metadata": {
        "id": "vRhLX0Y_8WB7",
        "colab": {
          "base_uri": "https://localhost:8080/"
        },
        "outputId": "73fd8162-5fe9-49eb-8583-7ccb69907b05"
      },
      "execution_count": 94,
      "outputs": [
        {
          "output_type": "stream",
          "name": "stdout",
          "text": [
            "0\n"
          ]
        }
      ]
    },
    {
      "cell_type": "code",
      "source": [
        "# Constraint 15\n",
        "model.const15 = ConstraintList()\n",
        "for c in C:\n",
        "  for r in R:\n",
        "    for d in D:\n",
        "      for t in T:\n",
        "        model.const15.add(model.x_crdt[c, r, d, t] <= twoucrdt)"
      ],
      "metadata": {
        "id": "T7BE-4s33Fh2"
      },
      "execution_count": 95,
      "outputs": []
    },
    {
      "cell_type": "markdown",
      "source": [
        "# **Solve**"
      ],
      "metadata": {
        "id": "wzX9dxNRtnt4"
      }
    },
    {
      "cell_type": "code",
      "source": [
        "!sudo apt-get install glpk-utils\n",
        "solver = pe.SolverFactory('glpk', executable='/usr/bin/glpsol')\n",
        "solution = solver.solve(model)"
      ],
      "metadata": {
        "id": "C1ZxpWa9tqbH"
      },
      "execution_count": null,
      "outputs": []
    },
    {
      "cell_type": "code",
      "source": [
        "from pyomo.opt import SolverFactory\n",
        "\n",
        "# กำหนด Solver\n",
        "opt = SolverFactory('glpk')\n",
        "opt.solve(model, tee=True)\n",
        "\n",
        "# แสดงผลลัพธ์\n",
        "# model.display()\n"
      ],
      "metadata": {
        "id": "JsUL-3z4tqVb",
        "colab": {
          "base_uri": "https://localhost:8080/"
        },
        "outputId": "bbdbe2e5-9c98-4aa1-8e40-d306c94e1f42"
      },
      "execution_count": 96,
      "outputs": [
        {
          "output_type": "stream",
          "name": "stdout",
          "text": [
            "GLPSOL--GLPK LP/MIP Solver 5.0\n",
            "Parameter(s) specified in the command line:\n",
            " --write /tmp/tmp8_3hmhnx.glpk.raw --wglp /tmp/tmpxx826irx.glpk.glp --cpxlp\n",
            " /tmp/tmpqv6f_ijb.pyomo.lp\n",
            "Reading problem data from '/tmp/tmpqv6f_ijb.pyomo.lp'...\n",
            "/tmp/tmpqv6f_ijb.pyomo.lp:342737: warning: lower bound of variable 'x1405' redefined\n",
            "/tmp/tmpqv6f_ijb.pyomo.lp:342737: warning: upper bound of variable 'x1405' redefined\n",
            "47355 rows, 29995 columns, 169265 non-zeros\n",
            "29995 integer variables, all of which are binary\n",
            "372732 lines were read\n",
            "Writing problem data to '/tmp/tmpxx826irx.glpk.glp'...\n",
            "295375 lines were written\n",
            "GLPK Integer Optimizer 5.0\n",
            "47355 rows, 29995 columns, 169265 non-zeros\n",
            "29995 integer variables, all of which are binary\n",
            "Preprocessing...\n",
            "1225 rows, 9995 columns, 34465 non-zeros\n",
            "9995 integer variables, all of which are binary\n",
            "Scaling...\n",
            " A: min|aij| =  1.000e+00  max|aij| =  1.000e+00  ratio =  1.000e+00\n",
            "Problem data seem to be well scaled\n",
            "Constructing initial basis...\n",
            "Size of triangular part is 1225\n",
            "Solving LP relaxation...\n",
            "GLPK Simplex Optimizer 5.0\n",
            "1225 rows, 9995 columns, 34465 non-zeros\n",
            "      0: obj =  -0.000000000e+00 inf =   1.000e+01 (10)\n",
            "      5: obj =  -0.000000000e+00 inf =   0.000e+00 (0)\n",
            "OPTIMAL LP SOLUTION FOUND\n",
            "Integer optimization begins...\n",
            "Long-step dual simplex will be used\n",
            "+     5: mip =     not found yet <=              +inf        (1; 0)\n",
            "+     5: >>>>>   0.000000000e+00 <=   0.000000000e+00   0.0% (1; 0)\n",
            "+     5: mip =   0.000000000e+00 <=     tree is empty   0.0% (0; 1)\n",
            "INTEGER OPTIMAL SOLUTION FOUND\n",
            "Time used:   0.1 secs\n",
            "Memory used: 41.1 Mb (43055920 bytes)\n",
            "Writing MIP solution to '/tmp/tmp8_3hmhnx.glpk.raw'...\n",
            "77359 lines were written\n"
          ]
        },
        {
          "output_type": "execute_result",
          "data": {
            "text/plain": [
              "{'Problem': [{'Name': 'unknown', 'Lower bound': 0.0, 'Upper bound': 0.0, 'Number of objectives': 1, 'Number of constraints': 47355, 'Number of variables': 29995, 'Number of nonzeros': 169265, 'Sense': 'maximize'}], 'Solver': [{'Status': 'ok', 'Termination condition': 'optimal', 'Statistics': {'Branch and bound': {'Number of bounded subproblems': '1', 'Number of created subproblems': '1'}}, 'Error rc': 0, 'Time': 0.715867280960083}], 'Solution': [OrderedDict([('number of solutions', 0), ('number of solutions displayed', 0)])]}"
            ]
          },
          "metadata": {},
          "execution_count": 96
        }
      ]
    },
    {
      "cell_type": "code",
      "source": [
        "# บันทึกโมเดลเป็นไฟล์ .lp\n",
        "model.write('model.lp', io_options={'symbolic_solver_labels': True})\n",
        "\n",
        "from google.colab import files\n",
        "files.download('model.lp')"
      ],
      "metadata": {
        "id": "sF-um0uTt1TA",
        "colab": {
          "base_uri": "https://localhost:8080/",
          "height": 17
        },
        "outputId": "7e8115d0-6a6a-41fd-ff2e-c3c2fe567d03"
      },
      "execution_count": null,
      "outputs": [
        {
          "output_type": "display_data",
          "data": {
            "text/plain": [
              "<IPython.core.display.Javascript object>"
            ],
            "application/javascript": [
              "\n",
              "    async function download(id, filename, size) {\n",
              "      if (!google.colab.kernel.accessAllowed) {\n",
              "        return;\n",
              "      }\n",
              "      const div = document.createElement('div');\n",
              "      const label = document.createElement('label');\n",
              "      label.textContent = `Downloading \"${filename}\": `;\n",
              "      div.appendChild(label);\n",
              "      const progress = document.createElement('progress');\n",
              "      progress.max = size;\n",
              "      div.appendChild(progress);\n",
              "      document.body.appendChild(div);\n",
              "\n",
              "      const buffers = [];\n",
              "      let downloaded = 0;\n",
              "\n",
              "      const channel = await google.colab.kernel.comms.open(id);\n",
              "      // Send a message to notify the kernel that we're ready.\n",
              "      channel.send({})\n",
              "\n",
              "      for await (const message of channel.messages) {\n",
              "        // Send a message to notify the kernel that we're ready.\n",
              "        channel.send({})\n",
              "        if (message.buffers) {\n",
              "          for (const buffer of message.buffers) {\n",
              "            buffers.push(buffer);\n",
              "            downloaded += buffer.byteLength;\n",
              "            progress.value = downloaded;\n",
              "          }\n",
              "        }\n",
              "      }\n",
              "      const blob = new Blob(buffers, {type: 'application/binary'});\n",
              "      const a = document.createElement('a');\n",
              "      a.href = window.URL.createObjectURL(blob);\n",
              "      a.download = filename;\n",
              "      div.appendChild(a);\n",
              "      a.click();\n",
              "      div.remove();\n",
              "    }\n",
              "  "
            ]
          },
          "metadata": {}
        },
        {
          "output_type": "display_data",
          "data": {
            "text/plain": [
              "<IPython.core.display.Javascript object>"
            ],
            "application/javascript": [
              "download(\"download_22422bd5-ed55-4ca8-af29-9407857296ea\", \"model.lp\", 5868740)"
            ]
          },
          "metadata": {}
        }
      ]
    },
    {
      "cell_type": "code",
      "source": [],
      "metadata": {
        "id": "bO7qIJDToOxy"
      },
      "execution_count": null,
      "outputs": []
    }
  ]
}